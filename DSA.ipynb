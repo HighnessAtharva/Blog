{
 "cells": [
  {
   "cell_type": "markdown",
   "metadata": {},
   "source": [
    "# Array"
   ]
  },
  {
   "cell_type": "markdown",
   "metadata": {},
   "source": [
    "## [Reverse the array](https://practice.geeksforgeeks.org/problems/reverse-an-array/0)"
   ]
  },
  {
   "cell_type": "code",
   "execution_count": null,
   "metadata": {},
   "outputs": [],
   "source": [
    "def reverseArray(arr):\n",
    "    start, end = 0, len(arr) - 1\n",
    "    while start < end:\n",
    "        arr[start], arr[end] = arr[end], arr[start]\n",
    "        start += 1\n",
    "        end -= 1\n",
    "\n",
    "A=[1,54,21,51,2,353,2,1,99,121,5,5]\n",
    "reverseArray(A)\n",
    "print(\"After reversing:\", A)"
   ]
  },
  {
   "cell_type": "markdown",
   "metadata": {},
   "source": [
    "## [Find the maximum and minimum element in an array](https://practice.geeksforgeeks.org/problems/find-minimum-and-maximum-element-in-an-array4428/1)"
   ]
  },
  {
   "cell_type": "code",
   "execution_count": null,
   "metadata": {},
   "outputs": [],
   "source": [
    "def getMinMax(arr):\n",
    "    min = arr[0]\n",
    "    max = arr[0]\n",
    "    for i in range(1, len(arr)):\n",
    "        if arr[i] < min:\n",
    "            min = arr[i]\n",
    "        if arr[i] > max:\n",
    "            max = arr[i]\n",
    "    return min, max\n",
    "\n",
    "arr = [1000, 11, 445, 1, 330, 3000]\n",
    "min, max = getMinMax(arr)\n",
    "print(\"Minimum element is\", min)\n",
    "print(\"Maximum element is\", max)"
   ]
  },
  {
   "cell_type": "markdown",
   "metadata": {},
   "source": [
    "\n",
    "## [Find the \"Kth\" max and min element of an array](https://practice.geeksforgeeks.org/problems/kth-smallest-element/0)\n"
   ]
  },
  {
   "cell_type": "code",
   "execution_count": null,
   "metadata": {},
   "outputs": [],
   "source": [
    "def kthSmallest(arr, k):\n",
    "    return sorted(arr)[k-1]\n",
    "\n",
    "def kthLargest(arr, k):\n",
    "    return sorted(arr, reverse=True)[k-1]\n",
    " \n",
    "nums = [1, 4, 5, 3, 19, 1, 90, 99, 100]\n",
    "k = 3\n",
    "print(\"K'th smallest element is\", kthSmallest(nums, k))\n",
    "print(\"K'th largest element is\", kthLargest(nums, k))"
   ]
  },
  {
   "cell_type": "markdown",
   "metadata": {},
   "source": [
    "## [Given an array which consists of only 0, 1 and 2. Sort the array without using any sorting algo](https://practice.geeksforgeeks.org/problems/sort-an-array-of-0s-1s-and-2s/0)"
   ]
  },
  {
   "cell_type": "code",
   "execution_count": null,
   "metadata": {},
   "outputs": [],
   "source": [
    "def sort012(arr):\n",
    "    start, mid=0,0\n",
    "    end=len(arr)-1\n",
    "    while mid<=end:\n",
    "        if arr[mid]==0:\n",
    "            arr[start], arr[mid]=arr[mid], arr[start]\n",
    "            start+=1\n",
    "            mid+=1\n",
    "        elif arr[mid]==1:\n",
    "            mid+=1\n",
    "        else:\n",
    "            arr[mid], arr[end]=arr[end], arr[mid]\n",
    "            end-=1\n",
    "    return arr\n",
    "    \n",
    "A=[0,0,0,2,2,2,1,1,1,0,2,1,1,2,0]\n",
    "print(\"After sorting:\",sort012(A))"
   ]
  },
  {
   "cell_type": "markdown",
   "metadata": {},
   "source": [
    "## [Move all the negative elements to one side of the array](https://practice.geeksforgeeks.org/problems/move-all-negative-elements-to-end1813/1)\n"
   ]
  },
  {
   "cell_type": "code",
   "execution_count": null,
   "metadata": {},
   "outputs": [],
   "source": [
    "def RearrangePosNeg(arr):\n",
    "    n=len(arr)\n",
    "    for i in range(1, n):\n",
    "        key=arr[i]\n",
    "        \n",
    "        # if current element is positive do nothing\n",
    "        if key>0:\n",
    "            continue\n",
    "        \n",
    "        # if current element is negative, shift positive elements of arr[0..i-1], to one position to their right\n",
    "        j=i-1\n",
    "        while(j>0 and arr[j]>=0):\n",
    "            arr[j+1]=arr[j]\n",
    "            j-=1\n",
    "\n",
    "        # putting negative elements in thier position\n",
    "        arr[j+1]=key\n",
    "\n",
    "arr = [-12, 11, 0 ,-13, -5, 6, -7, 5, -3, -6]\n",
    "RearrangePosNeg(arr)\n",
    "print(arr)"
   ]
  },
  {
   "cell_type": "markdown",
   "metadata": {},
   "source": [
    "## [Find the Union and Intersection of the two sorted arrays.](https://practice.geeksforgeeks.org/problems/union-of-two-arrays/0)"
   ]
  },
  {
   "cell_type": "code",
   "execution_count": 4,
   "metadata": {},
   "outputs": [
    {
     "name": "stdout",
     "output_type": "stream",
     "text": [
      "({1, 2, 3, 99, 5, 6, 7, 8, 100, 20}, 10)\n",
      "({1, 2, 3, 5, 6, 7}, 6)\n"
     ]
    }
   ],
   "source": [
    "def Union(arr1, arr2):\n",
    "    union = {arr1[i] for i in range(len(arr1))}\n",
    "    for i in range(len(arr2)):\n",
    "        union.add(arr2[i])\n",
    "    return union, len(union)\n",
    "\n",
    "def Intersection(arr1, arr2):\n",
    "    intersection = {i for i in arr1 if i in arr2}\n",
    "    return intersection, len(intersection)\n",
    "\n",
    "\n",
    "arr1 = [7, 1, 5, 2, 3, 6]\n",
    "arr2 = [3, 8, 6, 20, 7,2,99,100,1, 5]\n",
    "print(Union(arr1, arr2)) \n",
    "print(Intersection(arr1, arr2))"
   ]
  },
  {
   "cell_type": "markdown",
   "metadata": {},
   "source": [
    "## [Write a program to cyclically rotate an array by one.](https://practice.geeksforgeeks.org/problems/cyclically-rotate-an-array-by-one/0)"
   ]
  },
  {
   "cell_type": "code",
   "execution_count": 2,
   "metadata": {},
   "outputs": [
    {
     "name": "stdout",
     "output_type": "stream",
     "text": [
      "[4, 5, 1, 2, 3]\n"
     ]
    }
   ],
   "source": [
    "def rotate(arr):\n",
    "    i, j= 0, len(arr)-1\n",
    "    while i<j:\n",
    "        arr[i], arr[j] = arr[j], arr[i]\n",
    "        i+=1\n",
    "\n",
    "arr= [1, 2, 3, 4, 5]\n",
    "rotate(arr)\n",
    "rotate(arr)\n",
    "print(arr)"
   ]
  },
  {
   "cell_type": "markdown",
   "metadata": {},
   "source": [
    "\n",
    "## [Find Largest sum contiguous Subarray [V. IMP] / Kadne's Algorithm](https://practice.geeksforgeeks.org/problems/kadanes-algorithm/0)"
   ]
  },
  {
   "cell_type": "code",
   "execution_count": 4,
   "metadata": {},
   "outputs": [
    {
     "name": "stdout",
     "output_type": "stream",
     "text": [
      "Maximum contiguous sum is 7\n"
     ]
    }
   ],
   "source": [
    "def maxSubArraySum(arr):\n",
    "    currMax, maxSoFar= arr[0], arr[0]\n",
    "    for i in range(1, len(arr)):\n",
    "        currMax=max(a[i], currMax+arr[i])\n",
    "        maxSoFar=max(currMax, maxSoFar)\n",
    "    return maxSoFar\n",
    "a = [-2, -3, 4, -1, -2, 1, 5, -3]\n",
    "print (\"Maximum contiguous sum is\" , maxSubArraySum(a))"
   ]
  },
  {
   "cell_type": "markdown",
   "metadata": {},
   "source": [
    "## [Minimise the maximum difference between heights [V.IMP]](https://practice.geeksforgeeks.org/problems/minimize-the-heights3351/1)\n"
   ]
  },
  {
   "cell_type": "code",
   "execution_count": 9,
   "metadata": {},
   "outputs": [
    {
     "name": "stdout",
     "output_type": "stream",
     "text": [
      "Maximum difference of height between all towers (minimized as much as possible) is 84\n"
     ]
    }
   ],
   "source": [
    "\"\"\"\n",
    "Given heights of n towers and a value k. We need to either increase or decrease the height of every tower by k (only once) where k > 0. The task is to minimize the difference between the heights of the longest and the shortest tower after modifications and output this difference.\n",
    "Input : arr[] = {1, 5, 15, 10} k = 3   \n",
    "Output : Maximum difference is 8 arr[] = {4, 8, 12, 7}\n",
    "\"\"\"\n",
    "\n",
    "def getMinDiff(arr, k):\n",
    "    arr.sort()\n",
    "    n=len(arr)\n",
    "    arrMin=arr[0]\n",
    "    arrMax=arr[n-1]\n",
    "    minDiff=arrMax-arrMin\n",
    "    for i in range(1, n):\n",
    "        arrMin=min(arr[0]+k, arr[i]-k)\n",
    "        arrMax=max(arr[i-1]+k,arr[n-1]-k)\n",
    "        minDiff=min(minDiff, arrMax-arrMin)\n",
    "    return minDiff\n",
    "\n",
    "\n",
    "k = 6 # permissible increase or decrease in the height of each tower. \n",
    "arr = [7, 4, 8, 8, 8, 9, 99, 3, 16] # height of each array\n",
    "print(\"Maximum difference of height between all towers (minimized as much as possible) is\", getMinDiff(arr, k))"
   ]
  },
  {
   "cell_type": "markdown",
   "metadata": {},
   "source": [
    "## [Minimum no. of Jumps to reach end of an array](https://practice.geeksforgeeks.org/problems/minimum-number-of-jumps/0)"
   ]
  },
  {
   "cell_type": "code",
   "execution_count": 3,
   "metadata": {},
   "outputs": [
    {
     "name": "stdout",
     "output_type": "stream",
     "text": [
      "Minimum number of jumps to reach end is:  6\n"
     ]
    }
   ],
   "source": [
    "\"\"\"\n",
    "Given an array of integers where each element represents the max number of steps that can be made forward from that element. Write a function to return the minimum number of jumps to reach the end of the array (starting from the first element). If an element is 0, then we cannot move through that element. If we can't reach the end, return -1.\n",
    "\n",
    "Input:  arr[] = {1, 3, 5, 8, 9, 2, 6, 7, 6, 8, 9}\n",
    "Output: 3 (1-> 3 -> 8 -> 9)\n",
    "\"\"\"\n",
    "\n",
    "def minJumps(arr, n):\n",
    "    if n<=1:\n",
    "        return 0\n",
    "\n",
    "    if arr[0]==0:\n",
    "        return -1\n",
    "    \n",
    "    maxReach=arr[0]\n",
    "    step=arr[0]\n",
    "    jump=1\n",
    "    for start in range(1, n):\n",
    "        if start == n-1:\n",
    "            return jump\n",
    "        \n",
    "        maxReach=max(maxReach, start+arr[start])\n",
    "        step-=1\n",
    "        \n",
    "        if step==0:\n",
    "            jump+=1\n",
    "            if start>=maxReach:\n",
    "                return -1\n",
    "            step=maxReach-start\n",
    "    return -1\n",
    "        \n",
    "\n",
    "\n",
    "arr = [1, 1, 1, 2, 3, 2, 6, 7, 6, 8, 9]\n",
    "size = len(arr)\n",
    "print(\"Minimum number of jumps to reach end is: \", minJumps(arr, size))\n"
   ]
  }
 ],
 "metadata": {
  "kernelspec": {
   "display_name": "Python 3.10.0 64-bit",
   "language": "python",
   "name": "python3"
  },
  "language_info": {
   "codemirror_mode": {
    "name": "ipython",
    "version": 3
   },
   "file_extension": ".py",
   "mimetype": "text/x-python",
   "name": "python",
   "nbconvert_exporter": "python",
   "pygments_lexer": "ipython3",
   "version": "3.10.0"
  },
  "orig_nbformat": 4,
  "vscode": {
   "interpreter": {
    "hash": "26de051ba29f2982a8de78e945f0abaf191376122a1563185a90213a26c5da77"
   }
  }
 },
 "nbformat": 4,
 "nbformat_minor": 2
}
