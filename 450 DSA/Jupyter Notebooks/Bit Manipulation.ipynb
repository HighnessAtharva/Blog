{
 "cells": [
  {
   "cell_type": "markdown",
   "id": "b0710b7d",
   "metadata": {},
   "source": [
    "# Bit Manipulation\n",
    "\n",
    "## [Count set bits in an integer](https://practice.geeksforgeeks.org/problems/set-bits0143/1)"
   ]
  },
  {
   "cell_type": "code",
   "execution_count": 1,
   "id": "ea694bf5",
   "metadata": {},
   "outputs": [
    {
     "name": "stdout",
     "output_type": "stream",
     "text": [
      "2\n"
     ]
    }
   ],
   "source": [
    "def countSetBits(n):\n",
    "    if (n == 0):\n",
    "        return 0\n",
    "    else:\n",
    "        return 1 + countSetBits(n & (n - 1))\n",
    "             \n",
    "n = 9\n",
    "print(countSetBits(n))"
   ]
  },
  {
   "cell_type": "markdown",
   "id": "9d7e431b",
   "metadata": {},
   "source": [
    "## [Find the two non-repeating elements in an array of repeating elements](https://practice.geeksforgeeks.org/problems/finding-the-numbers0215/1)"
   ]
  },
  {
   "cell_type": "code",
   "execution_count": 2,
   "id": "f1127040",
   "metadata": {},
   "outputs": [
    {
     "name": "stdout",
     "output_type": "stream",
     "text": [
      "The 2 non repeating numbers are : 7 9 \n"
     ]
    }
   ],
   "source": [
    "def get2NonRepeatingNos(arr, n):\n",
    "    s = set()\n",
    "    for i in range(n):\n",
    "     \n",
    "        # Iterate through the array and check if each element is present or not in the set. If the\n",
    "        # element is present, remove it from the array otherwise add it to the set\n",
    " \n",
    "        if (arr[i] in s):\n",
    "            s.remove(arr[i])\n",
    "        else:\n",
    "            s.add(arr[i])\n",
    "    print(\"The 2 non repeating numbers are :\",end=\" \")\n",
    "    for it in s:\n",
    "        print(it,end=\" \")\n",
    "    print()\n",
    "\n",
    "arr = [2, 3, 7, 9, 11, 2, 3, 11]\n",
    "n = len(arr)\n",
    "get2NonRepeatingNos(arr, n)"
   ]
  },
  {
   "cell_type": "markdown",
   "id": "7896791d",
   "metadata": {},
   "source": [
    "## [Count number of bits to be flipped to convert A to B](https://practice.geeksforgeeks.org/problems/bit-difference/0)"
   ]
  },
  {
   "cell_type": "code",
   "execution_count": 3,
   "id": "d683a01b",
   "metadata": {},
   "outputs": [
    {
     "name": "stdout",
     "output_type": "stream",
     "text": [
      "4\n"
     ]
    }
   ],
   "source": [
    "def countSetBits( n ):\n",
    "    count = 0\n",
    "    while n:\n",
    "        count += 1\n",
    "        n &= (n-1)\n",
    "    return count\n",
    "     \n",
    "def FlippedCount(a , b):\n",
    "    return countSetBits(a^b)\n",
    "\n",
    "a = 10\n",
    "b = 20\n",
    "print(FlippedCount(a, b))"
   ]
  },
  {
   "cell_type": "markdown",
   "id": "457ffac0",
   "metadata": {},
   "source": [
    "## [Count total set bits in all numbers from 1 to n](https://practice.geeksforgeeks.org/problems/count-total-set-bits/0)"
   ]
  },
  {
   "cell_type": "code",
   "execution_count": 4,
   "id": "161c20fc",
   "metadata": {},
   "outputs": [
    {
     "name": "stdout",
     "output_type": "stream",
     "text": [
      "28\n"
     ]
    }
   ],
   "source": [
    "# Function to return the sum of the count of set bits in the integers from 1 to n\n",
    "def countSetBits(n) :\n",
    "  # Ignore 0 as all the bits are unset\n",
    "  n += 1;\n",
    "  # To store the powers of 2\n",
    "  powerOf2 = 2;\n",
    "\n",
    "  # To store the result, it is initialized with n/2 because the count of set\n",
    "  # least significant bits in the integers from 1 to n is n/2\n",
    "  cnt = n // 2;\n",
    "\n",
    "  # Loop for every bit required to represent n\n",
    "  while (powerOf2 <= n) :\n",
    "\n",
    "    # Total count of pairs of 0s and 1s\n",
    "    totalPairs = n // powerOf2;\n",
    "\n",
    "    # totalPairs/2 gives the complete count of the pairs of 1s Multiplying it with the current power of 2 will \n",
    "    # give the count of 1s in the current bit\n",
    "    cnt += (totalPairs // 2) * powerOf2;\n",
    "\n",
    "    # If the count of pairs was odd then add the remaining 1s which could not be groupped together\n",
    "    if (totalPairs & 1) :\n",
    "      cnt += (n % powerOf2)\n",
    "    else :\n",
    "      cnt += 0\n",
    "\n",
    "    # Next power of 2\n",
    "    powerOf2 <<= 1;\n",
    "    \n",
    "  return cnt;\n",
    "\n",
    "n = 14;\n",
    "print(countSetBits(n));\n"
   ]
  },
  {
   "cell_type": "markdown",
   "id": "f4d87357",
   "metadata": {},
   "source": [
    "## [Program to find whether a no is power of two](https://practice.geeksforgeeks.org/problems/power-of-2/0)"
   ]
  },
  {
   "cell_type": "code",
   "execution_count": 5,
   "id": "788d7258",
   "metadata": {},
   "outputs": [
    {
     "name": "stdout",
     "output_type": "stream",
     "text": [
      "No\n",
      "Yes\n"
     ]
    }
   ],
   "source": [
    "def isPowerOfTwo (x):\n",
    "    # First x in the below expression is for the case when x is 0\n",
    "    return (x and (not(x & (x - 1))) )\n",
    " \n",
    "print('Yes') if(isPowerOfTwo(31)) else print('No')\n",
    "print('Yes') if(isPowerOfTwo(64)) else print('No')"
   ]
  },
  {
   "cell_type": "markdown",
   "id": "5ec2ef39",
   "metadata": {},
   "source": [
    "## [Find position of the only set bit](https://practice.geeksforgeeks.org/problems/find-position-of-set-bit3706/1)"
   ]
  },
  {
   "cell_type": "code",
   "execution_count": 6,
   "id": "c1e48330",
   "metadata": {},
   "outputs": [
    {
     "name": "stdout",
     "output_type": "stream",
     "text": [
      "Invalid Number (has more than one set digits)\n",
      "Invalid Number (has more than one set digits)\n",
      "8\n"
     ]
    }
   ],
   "source": [
    "def isPowerOfTwo(n) :\n",
    "    return (n and ( not (n & (n-1))))\n",
    " \n",
    "# Returns position of the only set bit in 'n'\n",
    "def findPosition(n) :\n",
    "    if not isPowerOfTwo(n) :\n",
    "        return \"Invalid Number (has more than one set digits)\"\n",
    " \n",
    "    count = 0\n",
    " \n",
    "    # One by one move the only set bit to right till it reaches end\n",
    "    while (n) :\n",
    "        n = n >> 1\n",
    "        # increment count of shifts\n",
    "        count += 1\n",
    "\n",
    "    return count\n",
    " \n",
    "n = 0\n",
    "print(findPosition(n))\n",
    "n = 12\n",
    "print(findPosition(n))\n",
    "n = 128\n",
    "print(findPosition(n))\n"
   ]
  },
  {
   "cell_type": "markdown",
   "id": "f8faa950",
   "metadata": {},
   "source": [
    "## [Copy set bits in a range](https://www.geeksforgeeks.org/copy-set-bits-in-a-range/)"
   ]
  },
  {
   "cell_type": "code",
   "execution_count": 7,
   "id": "50f83d01",
   "metadata": {},
   "outputs": [
    {
     "name": "stdout",
     "output_type": "stream",
     "text": [
      "Modified x is  15\n"
     ]
    }
   ],
   "source": [
    "\"\"\"\n",
    "Given two numbers x and y, and a range [l, r] where 1 <= l, r <= 32. The task is consider set bits of y in range [l, r] and set these bits in x also.\n",
    "Examples : \n",
    "\n",
    "Input  : x = 10, y = 13, l = 2, r = 3\n",
    "Output : x = 14\n",
    "Binary representation of 10 is 1010 and \n",
    "that of y is 1101. There is one set bit\n",
    "in y at 3'rd position (in given range). \n",
    "After we copy this bit to x, x becomes 1110\n",
    "which is binary representation of 14.\n",
    "\n",
    "Input  : x = 8, y = 7, l = 1, r = 2\n",
    "Output : x = 11\n",
    "\"\"\"\n",
    "def copySetBits(x, y, l, r):\n",
    "   \n",
    "    # l and r must be between 1 to 3 (assuming ints are stored using 32 bits)\n",
    "    if (l < 1 or r > 32):\n",
    "        return x;\n",
    " \n",
    "    # Traverse in given range\n",
    "    for i in range(l, r + 1):\n",
    "       \n",
    "        # Find a mask (A number whose only set bit is at i'th position)\n",
    "        mask = 1 << (i - 1);\n",
    " \n",
    "        # If i'th bit is set in y, set i'th bit in x also.\n",
    "        if ((y & mask) != 0):\n",
    "            x = x | mask;\n",
    "    return x;\n",
    " \n",
    "\n",
    "x = 10;\n",
    "y = 13;\n",
    "l = 1;\n",
    "r = 32;\n",
    "x = copySetBits(x, y, l, r);\n",
    "print(\"Modified x is \", x);"
   ]
  },
  {
   "cell_type": "markdown",
   "id": "53940dc1",
   "metadata": {},
   "source": [
    "## [Divide two integers without using multiplication, division and mod operator](https://www.geeksforgeeks.org/divide-two-integers-without-using-multiplication-division-mod-operator/)"
   ]
  },
  {
   "cell_type": "code",
   "execution_count": 8,
   "id": "32e2518b",
   "metadata": {},
   "outputs": [
    {
     "name": "stdout",
     "output_type": "stream",
     "text": [
      "3\n",
      "-5\n"
     ]
    }
   ],
   "source": [
    "def divide(dividend, divisor):\n",
    " \n",
    "    # Calculate sign of divisor i.e., sign will be negative only if\n",
    "    # either one of them is negative otherwise it will be positive\n",
    "    sign = -1 if ((dividend < 0) ^ (divisor < 0)) else 1\n",
    " \n",
    "    # Update both divisor and dividend positive\n",
    "    dividend = abs(dividend)\n",
    "    divisor = abs(divisor)\n",
    " \n",
    "    # Initialize the quotient\n",
    "    quotient = 0\n",
    "    while (dividend >= divisor):\n",
    "        dividend -= divisor\n",
    "        quotient += 1\n",
    " \n",
    "    # if the sign value computed earlier is -1 then negate the value of quotient\n",
    "    if sign == -1:\n",
    "        quotient = -quotient\n",
    "    return quotient\n",
    " \n",
    "a = 10\n",
    "b = 3\n",
    "print(divide(a, b))\n",
    "a = 43\n",
    "b = -8\n",
    "print(divide(a, b))"
   ]
  },
  {
   "cell_type": "markdown",
   "id": "ed044932",
   "metadata": {},
   "source": [
    "## [Calculate square of a number without using *, / and pow()](https://www.geeksforgeeks.org/calculate-square-of-a-number-without-using-and-pow/)"
   ]
  },
  {
   "cell_type": "code",
   "execution_count": 9,
   "id": "aaa163d6",
   "metadata": {},
   "outputs": [
    {
     "name": "stdout",
     "output_type": "stream",
     "text": [
      "n = 1, n^2 = 1\n",
      "n = 2, n^2 = 4\n",
      "n = 3, n^2 = 9\n",
      "n = 4, n^2 = 16\n",
      "n = 5, n^2 = 25\n"
     ]
    }
   ],
   "source": [
    "def square(n):\n",
    "    # handle negative input\n",
    "    if (n < 0):\n",
    "        n = -n\n",
    " \n",
    "    # Initialize result\n",
    "    res = n\n",
    " \n",
    "    # Add n to res n-1 times\n",
    "    for i in range(1, n):\n",
    "        res += n\n",
    "    return res\n",
    "\n",
    "for n in range(1, 6):\n",
    "    print(\"n =\", n, end=\", \")\n",
    "    print(\"n^2 =\", square(n))"
   ]
  },
  {
   "cell_type": "markdown",
   "id": "97601fae",
   "metadata": {},
   "source": [
    "## [Power Set](https://practice.geeksforgeeks.org/problems/power-set4302/1)"
   ]
  },
  {
   "cell_type": "code",
   "execution_count": 10,
   "id": "ac10f122",
   "metadata": {},
   "outputs": [
    {
     "name": "stdout",
     "output_type": "stream",
     "text": [
      "\n",
      "a\n",
      "b\n",
      "c\n",
      "ab\n",
      "ac\n",
      "bc\n",
      "abc\n"
     ]
    }
   ],
   "source": [
    "#Python program to find powerset\n",
    "from itertools import combinations\n",
    "def print_powerset(string):\n",
    " for i in range(0,len(string)+1):\n",
    "  for element in combinations(string,i):\n",
    "   print(''.join(element))\n",
    "string=['a','b','c']\n",
    "print_powerset(string)"
   ]
  }
 ],
 "metadata": {
  "kernelspec": {
   "display_name": "Python 3.10.0 64-bit",
   "language": "python",
   "name": "python3"
  },
  "language_info": {
   "codemirror_mode": {
    "name": "ipython",
    "version": 3
   },
   "file_extension": ".py",
   "mimetype": "text/x-python",
   "name": "python",
   "nbconvert_exporter": "python",
   "pygments_lexer": "ipython3",
   "version": "3.10.0"
  },
  "orig_nbformat": 4,
  "vscode": {
   "interpreter": {
    "hash": "26de051ba29f2982a8de78e945f0abaf191376122a1563185a90213a26c5da77"
   }
  }
 },
 "nbformat": 4,
 "nbformat_minor": 2
}
