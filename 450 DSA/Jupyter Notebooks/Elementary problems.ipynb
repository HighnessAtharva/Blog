{
 "cells": [
  {
   "cell_type": "markdown",
   "id": "2fad344a",
   "metadata": {},
   "source": [
    "# Elementary Problems\n",
    "\n",
    "## Check Leap Year"
   ]
  },
  {
   "cell_type": "code",
   "execution_count": null,
   "id": "dc6ebc0b",
   "metadata": {},
   "outputs": [],
   "source": [
    "# Python program to check if year is a leap year or not\n",
    "\n",
    "year = 2000\n",
    "\n",
    "# divided by 100 means century year (ending with 00) century year divided by 400 is leap year\n",
    "if (year % 400 == 0) and (year % 100 == 0):\n",
    "    print(\"{0} is a leap year\".format(year))\n",
    "\n",
    "# not divided by 100 means not a century year year divided by 4 is a leap year\n",
    "elif (year % 4 ==0) and (year % 100 != 0):\n",
    "    print(\"{0} is a leap year\".format(year))\n",
    "\n",
    "# if not divided by both 400 (century year) and 4 (not century year) year is not leap year\n",
    "else:\n",
    "    print(\"{0} is not a leap year\".format(year))"
   ]
  },
  {
   "cell_type": "markdown",
   "id": "ae5b482a",
   "metadata": {},
   "source": [
    "## Generate Random Number"
   ]
  },
  {
   "cell_type": "code",
   "execution_count": null,
   "id": "518d4820",
   "metadata": {},
   "outputs": [],
   "source": [
    "import random\n",
    "print(random.randint(0,9))"
   ]
  },
  {
   "cell_type": "markdown",
   "id": "74a3d977",
   "metadata": {},
   "source": [
    "## Largest No of 3"
   ]
  },
  {
   "cell_type": "code",
   "execution_count": null,
   "id": "e2bcab60",
   "metadata": {},
   "outputs": [],
   "source": [
    "num1 = 10\n",
    "num2 = 14\n",
    "num3 = 12\n",
    "\n",
    "if (num1 >= num2) and (num1 >= num3):\n",
    "   largest = num1\n",
    "elif (num2 >= num1) and (num2 >= num3):\n",
    "   largest = num2\n",
    "else:\n",
    "   largest = num3\n",
    "\n",
    "print(\"The largest number is\", largest)"
   ]
  },
  {
   "cell_type": "markdown",
   "id": "b580bf7f",
   "metadata": {},
   "source": [
    "## Prime Number"
   ]
  },
  {
   "cell_type": "code",
   "execution_count": null,
   "id": "d9d377b1",
   "metadata": {},
   "outputs": [],
   "source": [
    "num = 29\n",
    "# define a flag variable\n",
    "flag = False\n",
    "\n",
    "# prime numbers are greater than 1\n",
    "if num > 1:\n",
    "    # check for factors\n",
    "    for i in range(2, num):\n",
    "        if (num % i) == 0:\n",
    "            # if factor is found, set flag to True\n",
    "            flag = True\n",
    "            # break out of loop\n",
    "            break\n",
    "\n",
    "# check if flag is True\n",
    "if flag:\n",
    "    print(num, \"is not a prime number\")\n",
    "else:\n",
    "    print(num, \"is a prime number\")"
   ]
  },
  {
   "cell_type": "markdown",
   "id": "5bc9e247",
   "metadata": {},
   "source": [
    "## Factorial"
   ]
  },
  {
   "cell_type": "code",
   "execution_count": null,
   "id": "0fbae500",
   "metadata": {},
   "outputs": [],
   "source": [
    "\n",
    "num = 7\n",
    "factorial = 1\n",
    "\n",
    "# check if the number is negative, positive or zero\n",
    "if num < 0:\n",
    "   print(\"Sorry, factorial does not exist for negative numbers\")\n",
    "elif num == 0:\n",
    "   print(\"The factorial of 0 is 1\")\n",
    "else:\n",
    "   for i in range(1,num + 1):\n",
    "       factorial = factorial*i\n",
    "   print(\"The factorial of\",num,\"is\",factorial)"
   ]
  },
  {
   "cell_type": "markdown",
   "id": "30f37abf",
   "metadata": {},
   "source": [
    "## Prime Number Intervals"
   ]
  },
  {
   "cell_type": "code",
   "execution_count": null,
   "id": "e1d7280e",
   "metadata": {},
   "outputs": [],
   "source": [
    "lower = 900\n",
    "upper = 1000\n",
    "\n",
    "print(\"Prime numbers between\", lower, \"and\", upper, \"are:\")\n",
    "\n",
    "for num in range(lower, upper + 1):\n",
    "   # all prime numbers are greater than 1\n",
    "   if num > 1:\n",
    "       for i in range(2, num):\n",
    "           if (num % i) == 0:\n",
    "               break\n",
    "       else:\n",
    "           print(num)"
   ]
  },
  {
   "cell_type": "markdown",
   "id": "dad78a3d",
   "metadata": {},
   "source": [
    "## Fibonacci Sequence"
   ]
  },
  {
   "cell_type": "code",
   "execution_count": null,
   "id": "1e5dc622",
   "metadata": {},
   "outputs": [],
   "source": [
    "\n",
    "nterms = int(input(\"How many terms? \"))\n",
    "n1, n2 = 0, 1\n",
    "count = 0\n",
    "\n",
    "# check if the number of terms is valid\n",
    "if nterms <= 0:\n",
    "   print(\"Please enter a positive integer\")\n",
    "# if there is only one term, return n1\n",
    "elif nterms == 1:\n",
    "   print(\"Fibonacci sequence upto\",nterms,\":\")\n",
    "   print(n1)\n",
    "# generate fibonacci sequence\n",
    "else:\n",
    "   print(\"Fibonacci sequence:\")\n",
    "   while count < nterms:\n",
    "       print(n1)\n",
    "       nth = n1 + n2\n",
    "       # update values\n",
    "       n1 = n2\n",
    "       n2 = nth\n",
    "       count += 1"
   ]
  },
  {
   "cell_type": "markdown",
   "id": "5026a0e5",
   "metadata": {},
   "source": [
    "## Armstrong Number"
   ]
  },
  {
   "cell_type": "code",
   "execution_count": null,
   "id": "5246d941",
   "metadata": {},
   "outputs": [],
   "source": [
    "num = int(input(\"Enter a number: \"))\n",
    "sum = 0\n",
    "\n",
    "# find the sum of the cube of each digit\n",
    "temp = num\n",
    "while temp > 0:\n",
    "   digit = temp % 10\n",
    "   sum += digit ** 3\n",
    "   temp //= 10\n",
    "\n",
    "if num == sum:\n",
    "   print(num,\"is an Armstrong number\")\n",
    "else:\n",
    "   print(num,\"is not an Armstrong number\")"
   ]
  },
  {
   "cell_type": "markdown",
   "id": "e0e07d11",
   "metadata": {},
   "source": [
    "## Decimal to Binary/Hexadecimal/Octal"
   ]
  },
  {
   "cell_type": "code",
   "execution_count": null,
   "id": "56d5264b",
   "metadata": {},
   "outputs": [],
   "source": [
    "dec = 344\n",
    "\n",
    "print(\"The decimal value of\", dec, \"is:\")\n",
    "print(bin(dec), \"in binary.\")\n",
    "print(oct(dec), \"in octal.\")\n",
    "print(hex(dec), \"in hexadecimal.\")\n"
   ]
  },
  {
   "cell_type": "markdown",
   "id": "71622ab3",
   "metadata": {},
   "source": [
    "## GCD"
   ]
  },
  {
   "cell_type": "code",
   "execution_count": null,
   "id": "d2a3bc29",
   "metadata": {},
   "outputs": [],
   "source": [
    "def compute_hcf(x, y):\n",
    "    if x > y:\n",
    "        smaller = y\n",
    "    else:\n",
    "        smaller = x\n",
    "    for i in range(1, smaller+1):\n",
    "        if((x % i == 0) and (y % i == 0)):\n",
    "            hcf = i \n",
    "    return hcf\n",
    "\n",
    "num1 = 54 \n",
    "num2 = 24\n",
    "\n",
    "print(\"The H.C.F. is\", compute_hcf(num1, num2))"
   ]
  },
  {
   "cell_type": "markdown",
   "id": "1640e176",
   "metadata": {},
   "source": [
    "## LCM"
   ]
  },
  {
   "cell_type": "code",
   "execution_count": null,
   "id": "baa1a508",
   "metadata": {},
   "outputs": [],
   "source": [
    "def compute_gcd(x, y):\n",
    "   while(y):\n",
    "       x, y = y, x % y\n",
    "   return x\n",
    "\n",
    "def compute_lcm(x, y):\n",
    "   lcm = (x*y)//compute_gcd(x,y)\n",
    "   return lcm\n",
    "\n",
    "num1 = 54\n",
    "num2 = 24 \n",
    "\n",
    "print(\"The L.C.M. is\", compute_lcm(num1, num2))"
   ]
  },
  {
   "cell_type": "markdown",
   "id": "d44aed71",
   "metadata": {},
   "source": [
    "## Factorial Using Recursion"
   ]
  },
  {
   "cell_type": "code",
   "execution_count": null,
   "id": "81a9a632",
   "metadata": {},
   "outputs": [],
   "source": [
    "def recur_factorial(n):\n",
    "   if n == 1:\n",
    "       return n\n",
    "   else:\n",
    "       return n*recur_factorial(n-1)\n",
    "\n",
    "num = 7\n",
    "\n",
    "if num < 0:\n",
    "   print(\"Sorry, factorial does not exist for negative numbers\")\n",
    "elif num == 0:\n",
    "   print(\"The factorial of 0 is 1\")\n",
    "else:\n",
    "   print(\"The factorial of\", num, \"is\", recur_factorial(num))\n"
   ]
  },
  {
   "cell_type": "markdown",
   "id": "988f9d6a",
   "metadata": {},
   "source": [
    "## 10 Triange Pattern Programs"
   ]
  },
  {
   "cell_type": "code",
   "execution_count": null,
   "id": "aa975fe1",
   "metadata": {},
   "outputs": [],
   "source": [
    "\"\"\"\n",
    "*\n",
    "* *\n",
    "* * *\n",
    "* * * *\n",
    "* * * * *\n",
    "\"\"\"\n",
    "rows = int(input(\"Enter number of rows: \"))\n",
    "for i in range(rows):\n",
    "    for j in range(i+1):\n",
    "        print(\"* \", end=\"\")\n",
    "    print(\"\\n\")\n",
    "\n",
    "\n",
    "\n",
    "\"\"\"\n",
    "1\n",
    "1 2\n",
    "1 2 3\n",
    "1 2 3 4\n",
    "1 2 3 4 5\n",
    "\"\"\"\n",
    "\n",
    "rows = int(input(\"Enter number of rows: \"))\n",
    "for i in range(rows):\n",
    "    for j in range(i+1):\n",
    "        print(j+1, end=\" \")\n",
    "    print(\"\\n\")\n",
    "\n",
    "\n",
    "\"\"\"\n",
    "A\n",
    "B B\n",
    "C C C\n",
    "D D D D\n",
    "E E E E E\n",
    "\"\"\"\n",
    "rows = int(input(\"Enter number of rows: \"))\n",
    "ascii_value = 65\n",
    "for i in range(rows):\n",
    "    for j in range(i+1):\n",
    "        alphabet = chr(ascii_value)\n",
    "        print(alphabet, end=\" \")\n",
    "    ascii_value += 1\n",
    "    print(\"\\n\")\n",
    "\n",
    "\"\"\"\n",
    "* * * * *\n",
    "* * * *\n",
    "* * *\n",
    "* *\n",
    "*\n",
    "\"\"\"\n",
    "rows = int(input(\"Enter number of rows: \"))\n",
    "for i in range(rows, 0, -1):\n",
    "    for j in range(0, i):\n",
    "        print(\"* \", end=\" \")\n",
    "    print(\"\\n\")\n",
    "\n",
    "\n",
    "\"\"\"\n",
    "1 2 3 4 5\n",
    "1 2 3 4\n",
    "1 2 3\n",
    "1 2\n",
    "1\n",
    "\"\"\"\n",
    "rows = int(input(\"Enter number of rows: \"))\n",
    "for i in range(rows, 0, -1):\n",
    "    for j in range(1, i+1):\n",
    "        print(j, end=\" \")\n",
    "    print(\"\\n\")\n",
    "\n",
    "\"\"\"\n",
    "        *\n",
    "      * * *\n",
    "    * * * * *\n",
    "  * * * * * * *\n",
    "* * * * * * * * *\n",
    "\"\"\"\n",
    "\n",
    "rows = int(input(\"Enter number of rows: \"))\n",
    "k = 0\n",
    "for i in range(1, rows+1):\n",
    "    for space in range(1, (rows-i)+1):\n",
    "        print(end=\"  \")\n",
    "    while k!=(2*i-1):\n",
    "        print(\"* \", end=\"\")\n",
    "        k += 1\n",
    "    k = 0\n",
    "    print()\n",
    "\n",
    "\n",
    "\"\"\"\n",
    "        1 \n",
    "      2 3 2 \n",
    "    3 4 5 4 3 \n",
    "  4 5 6 7 6 5 4 \n",
    "5 6 7 8 9 8 7 6 5\n",
    "\"\"\"\n",
    "\n",
    "rows = int(input(\"Enter number of rows: \"))\n",
    "\n",
    "k = 0\n",
    "count=0\n",
    "count1=0\n",
    "\n",
    "for i in range(1, rows+1):\n",
    "    for space in range(1, (rows-i)+1):\n",
    "        print(\"  \", end=\"\")\n",
    "        count+=1\n",
    "    \n",
    "    while k!=((2*i)-1):\n",
    "        if count<=rows-1:\n",
    "            print(i+k, end=\" \")\n",
    "            count+=1\n",
    "        else:\n",
    "            count1+=1\n",
    "            print(i+k-(2*count1), end=\" \")\n",
    "        k += 1\n",
    "    \n",
    "    count1 = count = k = 0\n",
    "    print()\n",
    "\n",
    "\"\"\"\n",
    "* * * * * * * * *\n",
    "  * * * * * * *\n",
    "    * * * * *\n",
    "      * * *\n",
    "        *\n",
    "\"\"\"\n",
    "\n",
    "rows = int(input(\"Enter number of rows: \"))\n",
    "\n",
    "for i in range(rows, 1, -1):\n",
    "    for space in range(0, rows-i):\n",
    "        print(\"  \", end=\"\")\n",
    "    for j in range(i, 2*i-1):\n",
    "        print(\"* \", end=\"\")\n",
    "    for j in range(1, i-1):\n",
    "        print(\"* \", end=\"\")\n",
    "    print()\n",
    "\n",
    "\n",
    "\"\"\"\n",
    "           1\n",
    "         1   1\n",
    "       1   2   1\n",
    "     1   3   3    1\n",
    "   1  4    6   4   1\n",
    " 1  5   10   10  5   1\n",
    "\"\"\"\n",
    "\n",
    "rows = int(input(\"Enter number of rows: \"))\n",
    "coef = 1\n",
    "\n",
    "for i in range(1, rows+1):\n",
    "    for space in range(1, rows-i+1):\n",
    "        print(\" \",end=\"\")\n",
    "    for j in range(0, i):\n",
    "        if j==0 or i==0:\n",
    "            coef = 1\n",
    "        else:\n",
    "            coef = coef * (i - j)//j\n",
    "        print(coef, end = \" \")\n",
    "    print()\n",
    "\n",
    "\"\"\"\n",
    "1\n",
    "2 3\n",
    "4 5 6\n",
    "7 8 9 10\n",
    "\"\"\"\n",
    "rows = int(input(\"Enter number of rows: \"))\n",
    "number = 1\n",
    "\n",
    "for i in range(1, rows+1):\n",
    "    for j in range(1, i+1):\n",
    "        print(number, end=\" \")\n",
    "        number += 1\n",
    "    print()\n"
   ]
  }
 ],
 "metadata": {
  "kernelspec": {
   "display_name": "Python 3.10.0 64-bit",
   "language": "python",
   "name": "python3"
  },
  "language_info": {
   "name": "python",
   "version": "3.10.0"
  },
  "orig_nbformat": 4,
  "vscode": {
   "interpreter": {
    "hash": "26de051ba29f2982a8de78e945f0abaf191376122a1563185a90213a26c5da77"
   }
  }
 },
 "nbformat": 4,
 "nbformat_minor": 2
}
