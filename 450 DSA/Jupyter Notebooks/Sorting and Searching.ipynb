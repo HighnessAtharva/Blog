{
 "cells": [
  {
   "cell_type": "markdown",
   "metadata": {},
   "source": [
    "## Bubble Sort"
   ]
  },
  {
   "cell_type": "code",
   "execution_count": 1,
   "metadata": {},
   "outputs": [
    {
     "name": "stdout",
     "output_type": "stream",
     "text": [
      "[-99, 0, 1, 2, 3, 4, 5]\n"
     ]
    }
   ],
   "source": [
    "def bubble_sort(arr):\n",
    "    n=len(arr)\n",
    "    for i in range(n):\n",
    "        for j in range(n-i-1):\n",
    "            if arr[j]>arr[j+1]:\n",
    "                arr[j],arr[j+1]=arr[j+1],arr[j]\n",
    "                \n",
    "\n",
    "array=[5,2,3,1,4, -99, 0]\n",
    "bubble_sort(array)\n",
    "print(array)"
   ]
  },
  {
   "cell_type": "markdown",
   "metadata": {},
   "source": [
    "## Selection Sort"
   ]
  },
  {
   "cell_type": "code",
   "execution_count": 4,
   "metadata": {},
   "outputs": [
    {
     "name": "stdout",
     "output_type": "stream",
     "text": [
      "[-99, 0, 1, 2, 3, 4, 5]\n"
     ]
    }
   ],
   "source": [
    "def selection_sort(arr):\n",
    "    n=len(arr)\n",
    "    # iterations=0\n",
    "    for i in range(n):\n",
    "        minIndex=i\n",
    "        for j in range(i+1, n):\n",
    "            if arr[minIndex] > arr[j]:\n",
    "                minIndex=j\n",
    "            # iterations+=1\n",
    "        if minIndex!=i:\n",
    "            arr[i], arr[minIndex]=arr[minIndex], arr[i]\n",
    "    # print(iterations) \n",
    "\n",
    "\n",
    "array=[5,2,3,1,4, -99, 0]\n",
    "selection_sort(array)\n",
    "print(array)"
   ]
  },
  {
   "cell_type": "markdown",
   "metadata": {},
   "source": [
    "## Insertion Sort"
   ]
  },
  {
   "cell_type": "code",
   "execution_count": 7,
   "metadata": {},
   "outputs": [
    {
     "name": "stdout",
     "output_type": "stream",
     "text": [
      "[-99, 0, 1, 2, 3, 4, 5]\n"
     ]
    }
   ],
   "source": [
    "def insertion_sort(arr):\n",
    "    n=len(arr)\n",
    "    # iterations=0\n",
    "    for i in range(1, n):\n",
    "        currentElement=arr[i]\n",
    "        for j in range(i-1, -1, -1):\n",
    "            # iterations+=1\n",
    "            if arr[j]>currentElement:\n",
    "                arr[j], arr[j+1]=arr[j+1], arr[j]\n",
    "            else:\n",
    "                arr[j+1]=currentElement\n",
    "                break\n",
    "    # print(iterations)\n",
    "array=[5,2,3,1,4, -99, 0]\n",
    "insertion_sort(array)\n",
    "print(array)"
   ]
  },
  {
   "cell_type": "markdown",
   "metadata": {},
   "source": [
    "## Merge Sort"
   ]
  },
  {
   "cell_type": "code",
   "execution_count": 9,
   "metadata": {},
   "outputs": [
    {
     "name": "stdout",
     "output_type": "stream",
     "text": [
      "[5, 6, 7, 11, 12, 13]\n"
     ]
    }
   ],
   "source": [
    "def mergeSort(arr):\n",
    "    if len(arr) <= 1:\n",
    "        return\n",
    "    mid=len(arr)//2\n",
    "    L=arr[:mid]\n",
    "    R=arr[mid:]\n",
    "    mergeSort(L)\n",
    "    mergeSort(R)\n",
    "    i=j=k=0\n",
    "    while i<len(L) and j<len(R):\n",
    "        if L[i]<R[j]:\n",
    "            arr[k]=L[i]\n",
    "            i+=1\n",
    "        else:\n",
    "            arr[k]=R[j]\n",
    "            j+=1\n",
    "        k+=1\n",
    "    while i<len(L):\n",
    "        arr[k]=L[i]\n",
    "        i+=1\n",
    "        k+=1\n",
    "    while j<len(R):\n",
    "        arr[k]=R[j]\n",
    "        j+=1\n",
    "        k+=1\n",
    "\n",
    "\n",
    "arr = [12, 11, 13, 5, 6, 7]\n",
    "mergeSort(arr)\n",
    "print(arr)"
   ]
  },
  {
   "cell_type": "markdown",
   "metadata": {},
   "source": [
    "## Quick Sort"
   ]
  },
  {
   "cell_type": "code",
   "execution_count": 10,
   "metadata": {},
   "outputs": [
    {
     "name": "stdout",
     "output_type": "stream",
     "text": [
      "[-99, 0, 1, 2, 3, 4, 5]\n"
     ]
    }
   ],
   "source": [
    "def partition(arr, low, high):\n",
    "    i=low-1\n",
    "    pivot=arr[high]\n",
    "    for j in range(low, high):\n",
    "        if arr[j]<pivot:\n",
    "            i+=1\n",
    "            arr[i], arr[j]=arr[j], arr[i]\n",
    "    arr[i+1], arr[high]=arr[high], arr[i+1]\n",
    "    return i+1\n",
    "\n",
    "def quick_sort(arr, low, high):\n",
    "    if low<high:\n",
    "        temp=partition(arr, low, high)\n",
    "        quick_sort(arr, low, temp-1)\n",
    "        quick_sort(arr, temp+1, high)\n",
    "\n",
    "array=[5,2,3,1,4, -99, 0]\n",
    "quick_sort(array, 0, len(array)-1)\n",
    "print(array)"
   ]
  },
  {
   "cell_type": "markdown",
   "metadata": {},
   "source": [
    "## Counting Sort"
   ]
  },
  {
   "cell_type": "code",
   "execution_count": 1,
   "metadata": {},
   "outputs": [
    {
     "name": "stdout",
     "output_type": "stream",
     "text": [
      "[0, 1, 2, 2, 3, 3, 4, 8]\n"
     ]
    }
   ],
   "source": [
    "def countingSort(arr):\n",
    "    n=len(arr)\n",
    "    output=[0]*n\n",
    "    count=[0]*10\n",
    "\n",
    "    for el in arr:\n",
    "        count[el] += 1\n",
    "    for el in range(1, 10):\n",
    "        count[el]+=count[el-1]\n",
    "    \n",
    "    for i in range(n-1, -1, -1):\n",
    "        output[count[arr[i]]-1]=arr[i]\n",
    "        count[arr[i]]-=1\n",
    "    \n",
    "    for i in range(n):\n",
    "        arr[i]=output[i]\n",
    "\n",
    "\n",
    "array = [4,0,2, 2, 8, 3, 3, 1]\n",
    "countingSort(array)\n",
    "print(array)"
   ]
  },
  {
   "cell_type": "markdown",
   "metadata": {},
   "source": [
    "## Heap Sort\n"
   ]
  },
  {
   "cell_type": "code",
   "execution_count": 44,
   "metadata": {},
   "outputs": [
    {
     "name": "stdout",
     "output_type": "stream",
     "text": [
      "[8, 12, 35, 43, 51]\n"
     ]
    }
   ],
   "source": [
    "def heapify(arr, n, root):\n",
    "    largest = root\n",
    "    left_child = (2 * root) + 1\n",
    "    right_child = (2 * root) + 2\n",
    "\n",
    "    if left_child < n and arr[left_child] > arr[largest]:\n",
    "        largest = left_child\n",
    "\n",
    "    if right_child < n and arr[right_child] > arr[largest]:\n",
    "        largest = right_child\n",
    "\n",
    "    if largest != root:\n",
    "        arr[root], arr[largest] = arr[largest], arr[root]\n",
    "        # Heapify the new root element to ensure it's the largest\n",
    "        heapify(arr, n, largest)\n",
    "\n",
    "\n",
    "def heap_sort(arr):\n",
    "    n = len(arr)\n",
    "    \n",
    "    for i in reversed(range(n)):\n",
    "        heapify(arr, n, i)\n",
    "\n",
    "    for i in range(n - 1, 0, -1):\n",
    "        arr[i], arr[0] = arr[0], arr[i]\n",
    "        heapify(arr, i, 0)\n",
    "\n",
    "random_list_of_arr = [35, 12, 43, 8, 51]\n",
    "heap_sort(random_list_of_arr)\n",
    "print(random_list_of_arr)"
   ]
  },
  {
   "cell_type": "markdown",
   "metadata": {},
   "source": [
    "## Radix Sort"
   ]
  },
  {
   "cell_type": "code",
   "execution_count": 45,
   "metadata": {},
   "outputs": [
    {
     "name": "stdout",
     "output_type": "stream",
     "text": [
      "[1081, 1792, 2586, 2589, 3638, 4304, 4485, 7768, 8812, 9935, 11111, 12879, 14535, 14601, 14724, 15252, 15305, 15338, 16384, 16901, 17195, 18264, 18481, 18909, 19712, 21289, 21725, 23828, 24185, 24816, 28554, 29355, 29362, 29928, 30335, 30584, 31065, 33013, 33588, 35743, 36132, 36451, 37074, 37577, 39754, 42250, 42291, 43620, 46899, 48237, 49294, 50131, 50473, 54277, 54830, 58032, 59708, 60940, 62097, 62441, 63805, 64664, 65089, 66352, 66654, 66973, 69764, 70199, 72190, 73334, 73793, 78003, 78609, 78689, 79636, 79936, 80511, 80835, 82257, 83126, 83986, 84799, 85238, 85931, 86050, 86408, 86754, 88442, 88854, 91250, 91535, 91609, 93495, 94304, 94484, 95066, 95863, 98362, 98703, 99490]\n"
     ]
    }
   ],
   "source": [
    "from math import log10\n",
    "from random import randint\n",
    "\n",
    "def get_num(num, base, pos):\n",
    "  return (num // base ** pos) % base\n",
    "\n",
    "def prefix_sum(array):\n",
    "  for i in range(1, len(array)):\n",
    "    array[i] = array[i] + array[i-1]\n",
    "  return array\n",
    "\n",
    "def radixsort(l, base=10):\n",
    "  passes = int(log10(max(l))+1)\n",
    "  output = [0] * len(l)\n",
    "\n",
    "  for pos in range(passes):\n",
    "        count = [0] * base\n",
    "\n",
    "        for i in l:\n",
    "            digit = get_num(i, base, pos)\n",
    "            count[digit] +=1\n",
    "\n",
    "        count = prefix_sum(count)\n",
    "\n",
    "        for i in reversed(l):\n",
    "            digit = get_num(i, base, pos)\n",
    "            count[digit] -= 1\n",
    "            new_pos = count[digit]\n",
    "            output[new_pos] = i\n",
    "\n",
    "        l = list(output)\n",
    "  return output\n",
    "\n",
    "l = [randint(1, 99999) for _ in range(100)]\n",
    "sortedarr = radixsort(l)\n",
    "print(sortedarr)"
   ]
  },
  {
   "cell_type": "markdown",
   "metadata": {},
   "source": [
    "## Linear Search\n"
   ]
  },
  {
   "cell_type": "code",
   "execution_count": 46,
   "metadata": {},
   "outputs": [
    {
     "name": "stdout",
     "output_type": "stream",
     "text": [
      "Element found at index:  3\n"
     ]
    }
   ],
   "source": [
    "def linearSearch(array, n, x):\n",
    "    for i in range(n):\n",
    "        if (array[i] == x):\n",
    "            return i\n",
    "    return -1\n",
    "\n",
    "array = [2, 4, 0, 1, 9]\n",
    "x = 1\n",
    "n = len(array)\n",
    "result = linearSearch(array, n, x)\n",
    "if(result == -1):\n",
    "    print(\"Element not found\")\n",
    "else:\n",
    "    print(\"Element found at index: \", result)"
   ]
  },
  {
   "cell_type": "markdown",
   "metadata": {},
   "source": [
    "## Binary Search"
   ]
  },
  {
   "cell_type": "code",
   "execution_count": 47,
   "metadata": {},
   "outputs": [
    {
     "name": "stdout",
     "output_type": "stream",
     "text": [
      "Element is present at index 1\n"
     ]
    }
   ],
   "source": [
    "def binarySearch(array, x, low, high):\n",
    "    while low <= high:\n",
    "        mid = low + (high - low)//2\n",
    "        if x==array[mid]:\n",
    "            return mid\n",
    "        elif x> array[mid]:\n",
    "            low = mid + 1\n",
    "        else:\n",
    "            high = mid - 1\n",
    "    return -1\n",
    "\n",
    "array = [3, 4, 5, 6, 7, 8, 9]\n",
    "x = 4\n",
    "result = binarySearch(array, x, 0, len(array)-1)\n",
    "if result != -1:\n",
    "    print(f\"Element is present at index {str(result)}\")\n",
    "else:\n",
    "    print(\"Not found\")"
   ]
  }
 ],
 "metadata": {
  "kernelspec": {
   "display_name": "Python 3.10.0 64-bit",
   "language": "python",
   "name": "python3"
  },
  "language_info": {
   "codemirror_mode": {
    "name": "ipython",
    "version": 3
   },
   "file_extension": ".py",
   "mimetype": "text/x-python",
   "name": "python",
   "nbconvert_exporter": "python",
   "pygments_lexer": "ipython3",
   "version": "3.10.0"
  },
  "orig_nbformat": 4,
  "vscode": {
   "interpreter": {
    "hash": "26de051ba29f2982a8de78e945f0abaf191376122a1563185a90213a26c5da77"
   }
  }
 },
 "nbformat": 4,
 "nbformat_minor": 2
}
