{
 "cells": [
  {
   "cell_type": "markdown",
   "id": "5c71ca71",
   "metadata": {},
   "source": [
    "# Searching & Sorting\n",
    "## Bubble Sort"
   ]
  },
  {
   "cell_type": "code",
   "execution_count": null,
   "id": "3b30fdda",
   "metadata": {},
   "outputs": [
    {
     "name": "stdout",
     "output_type": "stream",
     "text": [
      "[-99, 0, 1, 2, 3, 4, 5]\n"
     ]
    }
   ],
   "source": [
    "def bubble_sort(arr):\n",
    "    n=len(arr)\n",
    "    for i in range(n):\n",
    "        for j in range(n-i-1):\n",
    "            if arr[j]>arr[j+1]:\n",
    "                arr[j],arr[j+1]=arr[j+1],arr[j]\n",
    "                \n",
    "\n",
    "array=[5,2,3,1,4, -99, 0]\n",
    "bubble_sort(array)\n",
    "print(array)"
   ]
  },
  {
   "cell_type": "markdown",
   "id": "15a5225b",
   "metadata": {},
   "source": [
    "## Selection Sort"
   ]
  },
  {
   "cell_type": "code",
   "execution_count": null,
   "id": "cade730d",
   "metadata": {},
   "outputs": [
    {
     "name": "stdout",
     "output_type": "stream",
     "text": [
      "[-99, 0, 1, 2, 3, 4, 5]\n"
     ]
    }
   ],
   "source": [
    "def selection_sort(arr):\n",
    "    n=len(arr)\n",
    "    # iterations=0\n",
    "    for i in range(n):\n",
    "        minIndex=i\n",
    "        for j in range(i+1, n):\n",
    "            if arr[minIndex] > arr[j]:\n",
    "                minIndex=j\n",
    "            # iterations+=1\n",
    "        if minIndex!=i:\n",
    "            arr[i], arr[minIndex]=arr[minIndex], arr[i]\n",
    "    # print(iterations) \n",
    "\n",
    "\n",
    "array=[5,2,3,1,4, -99, 0]\n",
    "selection_sort(array)\n",
    "print(array)"
   ]
  },
  {
   "cell_type": "markdown",
   "id": "f827ca3a",
   "metadata": {},
   "source": [
    "## Insertion Sort"
   ]
  },
  {
   "cell_type": "code",
   "execution_count": null,
   "id": "d8613201",
   "metadata": {},
   "outputs": [
    {
     "name": "stdout",
     "output_type": "stream",
     "text": [
      "[-99, 0, 1, 2, 3, 4, 5]\n"
     ]
    }
   ],
   "source": [
    "def insertion_sort(arr):\n",
    "    n=len(arr)\n",
    "    # iterations=0\n",
    "    for i in range(1, n):\n",
    "        currentElement=arr[i]\n",
    "        for j in range(i-1, -1, -1):\n",
    "            # iterations+=1\n",
    "            if arr[j]>currentElement:\n",
    "                arr[j], arr[j+1]=arr[j+1], arr[j]\n",
    "            else:\n",
    "                arr[j+1]=currentElement\n",
    "                break\n",
    "    # print(iterations)\n",
    "array=[5,2,3,1,4, -99, 0]\n",
    "insertion_sort(array)\n",
    "print(array)"
   ]
  },
  {
   "cell_type": "markdown",
   "id": "7fe87cb7",
   "metadata": {},
   "source": [
    "## Merge Sort"
   ]
  },
  {
   "cell_type": "code",
   "execution_count": null,
   "id": "bd112080",
   "metadata": {},
   "outputs": [
    {
     "name": "stdout",
     "output_type": "stream",
     "text": [
      "[5, 6, 7, 11, 12, 13]\n"
     ]
    }
   ],
   "source": [
    "def mergeSort(arr):\n",
    "    if len(arr) <= 1:\n",
    "        return\n",
    "    mid=len(arr)//2\n",
    "    L=arr[:mid]\n",
    "    R=arr[mid:]\n",
    "    mergeSort(L)\n",
    "    mergeSort(R)\n",
    "    i=j=k=0\n",
    "    while i<len(L) and j<len(R):\n",
    "        if L[i]<R[j]:\n",
    "            arr[k]=L[i]\n",
    "            i+=1\n",
    "        else:\n",
    "            arr[k]=R[j]\n",
    "            j+=1\n",
    "        k+=1\n",
    "    while i<len(L):\n",
    "        arr[k]=L[i]\n",
    "        i+=1\n",
    "        k+=1\n",
    "    while j<len(R):\n",
    "        arr[k]=R[j]\n",
    "        j+=1\n",
    "        k+=1\n",
    "\n",
    "\n",
    "arr = [12, 11, 13, 5, 6, 7]\n",
    "mergeSort(arr)\n",
    "print(arr)"
   ]
  },
  {
   "cell_type": "markdown",
   "id": "69f9781b",
   "metadata": {},
   "source": [
    "## Quick Sort"
   ]
  },
  {
   "cell_type": "code",
   "execution_count": null,
   "id": "0b7aac6b",
   "metadata": {},
   "outputs": [
    {
     "name": "stdout",
     "output_type": "stream",
     "text": [
      "[-99, 0, 1, 2, 3, 4, 5]\n"
     ]
    }
   ],
   "source": [
    "def partition(arr, low, high):\n",
    "    i=low-1\n",
    "    pivot=arr[high]\n",
    "    for j in range(low, high):\n",
    "        if arr[j]<pivot:\n",
    "            i+=1\n",
    "            arr[i], arr[j]=arr[j], arr[i]\n",
    "    arr[i+1], arr[high]=arr[high], arr[i+1]\n",
    "    return i+1\n",
    "\n",
    "def quick_sort(arr, low, high):\n",
    "    if low<high:\n",
    "        temp=partition(arr, low, high)\n",
    "        quick_sort(arr, low, temp-1)\n",
    "        quick_sort(arr, temp+1, high)\n",
    "\n",
    "array=[5,2,3,1,4, -99, 0]\n",
    "quick_sort(array, 0, len(array)-1)\n",
    "print(array)"
   ]
  },
  {
   "cell_type": "markdown",
   "id": "92227c96",
   "metadata": {},
   "source": [
    "## Counting Sort"
   ]
  },
  {
   "cell_type": "code",
   "execution_count": null,
   "id": "817405ef",
   "metadata": {},
   "outputs": [
    {
     "name": "stdout",
     "output_type": "stream",
     "text": [
      "[0, 1, 2, 2, 3, 3, 4, 8]\n"
     ]
    }
   ],
   "source": [
    "def countingSort(arr):\n",
    "    n=len(arr)\n",
    "    output=[0]*n\n",
    "    count=[0]*10\n",
    "\n",
    "    for el in arr:\n",
    "        count[el] += 1\n",
    "    for el in range(1, 10):\n",
    "        count[el]+=count[el-1]\n",
    "    \n",
    "    for i in range(n-1, -1, -1):\n",
    "        output[count[arr[i]]-1]=arr[i]\n",
    "        count[arr[i]]-=1\n",
    "    \n",
    "    for i in range(n):\n",
    "        arr[i]=output[i]\n",
    "\n",
    "\n",
    "array = [4,0,2, 2, 8, 3, 3, 1]\n",
    "countingSort(array)\n",
    "print(array)"
   ]
  },
  {
   "cell_type": "markdown",
   "id": "d0221e07",
   "metadata": {},
   "source": [
    "## Heap Sort\n"
   ]
  },
  {
   "cell_type": "code",
   "execution_count": null,
   "id": "6884092a",
   "metadata": {},
   "outputs": [
    {
     "name": "stdout",
     "output_type": "stream",
     "text": [
      "[8, 12, 35, 43, 51]\n"
     ]
    }
   ],
   "source": [
    "def heapify(arr, n, root):\n",
    "    largest = root\n",
    "    left_child = (2 * root) + 1\n",
    "    right_child = (2 * root) + 2\n",
    "\n",
    "    if left_child < n and arr[left_child] > arr[largest]:\n",
    "        largest = left_child\n",
    "\n",
    "    if right_child < n and arr[right_child] > arr[largest]:\n",
    "        largest = right_child\n",
    "\n",
    "    if largest != root:\n",
    "        arr[root], arr[largest] = arr[largest], arr[root]\n",
    "        # Heapify the new root element to ensure it's the largest\n",
    "        heapify(arr, n, largest)\n",
    "\n",
    "\n",
    "def heap_sort(arr):\n",
    "    n = len(arr)\n",
    "    \n",
    "    for i in reversed(range(n)):\n",
    "        heapify(arr, n, i)\n",
    "\n",
    "    for i in range(n - 1, 0, -1):\n",
    "        arr[i], arr[0] = arr[0], arr[i]\n",
    "        heapify(arr, i, 0)\n",
    "\n",
    "random_list_of_arr = [35, 12, 43, 8, 51]\n",
    "heap_sort(random_list_of_arr)\n",
    "print(random_list_of_arr)"
   ]
  },
  {
   "cell_type": "markdown",
   "id": "d9efb617",
   "metadata": {},
   "source": [
    "## Radix Sort"
   ]
  },
  {
   "cell_type": "code",
   "execution_count": null,
   "id": "1d83cbeb",
   "metadata": {},
   "outputs": [
    {
     "name": "stdout",
     "output_type": "stream",
     "text": [
      "[1081, 1792, 2586, 2589, 3638, 4304, 4485, 7768, 8812, 9935, 11111, 12879, 14535, 14601, 14724, 15252, 15305, 15338, 16384, 16901, 17195, 18264, 18481, 18909, 19712, 21289, 21725, 23828, 24185, 24816, 28554, 29355, 29362, 29928, 30335, 30584, 31065, 33013, 33588, 35743, 36132, 36451, 37074, 37577, 39754, 42250, 42291, 43620, 46899, 48237, 49294, 50131, 50473, 54277, 54830, 58032, 59708, 60940, 62097, 62441, 63805, 64664, 65089, 66352, 66654, 66973, 69764, 70199, 72190, 73334, 73793, 78003, 78609, 78689, 79636, 79936, 80511, 80835, 82257, 83126, 83986, 84799, 85238, 85931, 86050, 86408, 86754, 88442, 88854, 91250, 91535, 91609, 93495, 94304, 94484, 95066, 95863, 98362, 98703, 99490]\n"
     ]
    }
   ],
   "source": [
    "from math import log10\n",
    "from random import randint\n",
    "\n",
    "def get_num(num, base, pos):\n",
    "  return (num // base ** pos) % base\n",
    "\n",
    "def prefix_sum(array):\n",
    "  for i in range(1, len(array)):\n",
    "    array[i] = array[i] + array[i-1]\n",
    "  return array\n",
    "\n",
    "def radixsort(l, base=10):\n",
    "  passes = int(log10(max(l))+1)\n",
    "  output = [0] * len(l)\n",
    "\n",
    "  for pos in range(passes):\n",
    "        count = [0] * base\n",
    "\n",
    "        for i in l:\n",
    "            digit = get_num(i, base, pos)\n",
    "            count[digit] +=1\n",
    "\n",
    "        count = prefix_sum(count)\n",
    "\n",
    "        for i in reversed(l):\n",
    "            digit = get_num(i, base, pos)\n",
    "            count[digit] -= 1\n",
    "            new_pos = count[digit]\n",
    "            output[new_pos] = i\n",
    "\n",
    "        l = list(output)\n",
    "  return output\n",
    "\n",
    "l = [randint(1, 99999) for _ in range(100)]\n",
    "sortedarr = radixsort(l)\n",
    "print(sortedarr)"
   ]
  },
  {
   "cell_type": "markdown",
   "id": "6d962a5c",
   "metadata": {},
   "source": [
    "## Linear Search\n"
   ]
  },
  {
   "cell_type": "code",
   "execution_count": null,
   "id": "39a7e5dd",
   "metadata": {},
   "outputs": [
    {
     "name": "stdout",
     "output_type": "stream",
     "text": [
      "Element found at index:  3\n"
     ]
    }
   ],
   "source": [
    "def linearSearch(array, n, x):\n",
    "    for i in range(n):\n",
    "        if (array[i] == x):\n",
    "            return i\n",
    "    return -1\n",
    "\n",
    "array = [2, 4, 0, 1, 9]\n",
    "x = 1\n",
    "n = len(array)\n",
    "result = linearSearch(array, n, x)\n",
    "if(result == -1):\n",
    "    print(\"Element not found\")\n",
    "else:\n",
    "    print(\"Element found at index: \", result)"
   ]
  },
  {
   "cell_type": "markdown",
   "id": "7ea47be0",
   "metadata": {},
   "source": [
    "## Binary Search"
   ]
  },
  {
   "cell_type": "code",
   "execution_count": null,
   "id": "4fa8f021",
   "metadata": {},
   "outputs": [
    {
     "name": "stdout",
     "output_type": "stream",
     "text": [
      "Element is present at index 1\n"
     ]
    }
   ],
   "source": [
    "def binarySearch(array, x, low, high):\n",
    "    while low <= high:\n",
    "        mid = low + (high - low)//2\n",
    "        if x==array[mid]:\n",
    "            return mid\n",
    "        elif x> array[mid]:\n",
    "            low = mid + 1\n",
    "        else:\n",
    "            high = mid - 1\n",
    "    return -1\n",
    "\n",
    "array = [3, 4, 5, 6, 7, 8, 9]\n",
    "x = 4\n",
    "result = binarySearch(array, x, 0, len(array)-1)\n",
    "if result != -1:\n",
    "    print(f\"Element is present at index {str(result)}\")\n",
    "else:\n",
    "    print(\"Not found\")"
   ]
  },
  {
   "cell_type": "markdown",
   "id": "56da04a8",
   "metadata": {},
   "source": [
    "## Interpolation Search"
   ]
  },
  {
   "cell_type": "code",
   "execution_count": null,
   "id": "5cceaee7",
   "metadata": {},
   "outputs": [],
   "source": [
    "# Function to determine if target exists in the sorted list `A` or not\n",
    "# using an interpolation search algorithm\n",
    "def interpolationSearch(A, target):\n",
    "    if not A:\n",
    "        return -1\n",
    "    (left, right) = (0, len(A) - 1)\n",
    "    while A[right] != A[left] and A[left] <= target <= A[right]:\n",
    "        mid = left + (target - A[left]) * (right - left) // (A[right] - A[left])\n",
    "        if target == A[mid]:\n",
    "            return mid\n",
    "        elif target < A[mid]:\n",
    "            right = mid - 1\n",
    "        else:\n",
    "            left = mid + 1\n",
    "    if target == A[left]:\n",
    "        return left\n",
    "    return -1\n",
    " \n",
    "A = [2, 5, 6, 8, 9, 10]\n",
    "key = 5\n",
    "index = interpolationSearch(A, key)\n",
    "if index != -1:\n",
    "    print('Element found at index', index)\n",
    "else:\n",
    "    print('Element found not in the list')"
   ]
  },
  {
   "cell_type": "markdown",
   "id": "065bab70",
   "metadata": {},
   "source": [
    "## [Find first and last positions of an element in a sorted array](https://practice.geeksforgeeks.org/problems/first-and-last-occurrences-of-x/0)"
   ]
  },
  {
   "cell_type": "code",
   "execution_count": null,
   "id": "96add3cb",
   "metadata": {},
   "outputs": [],
   "source": [
    "def first(arr, x, n):\t\n",
    "\tlow = 0\n",
    "\thigh = n - 1\n",
    "\tres = -1\n",
    "\t\n",
    "\twhile (low <= high):\n",
    "\t\tmid = (low + high) // 2\t\t\n",
    "\t\tif arr[mid] > x:\n",
    "\t\t\thigh = mid - 1\n",
    "\t\telif arr[mid] < x:\n",
    "\t\t\tlow = mid + 1\n",
    "\t\telse:\n",
    "\t\t\tres = mid\n",
    "\t\t\thigh = mid - 1\n",
    "\n",
    "\treturn res\n",
    "\n",
    "# If x is present in arr[] then returns the index of FIRST occurrence of x in arr[0..n-1], otherwise returns -1\n",
    "def last(arr, x, n):\n",
    "\tlow = 0\n",
    "\thigh = n - 1\n",
    "\tres = -1\n",
    "\twhile(low <= high):\n",
    "\t\tmid = (low + high) // 2\n",
    "\t\tif arr[mid] > x:\n",
    "\t\t\thigh = mid - 1\n",
    "\t\telif arr[mid] < x:\n",
    "\t\t\tlow = mid + 1\n",
    "\t\telse:\n",
    "\t\t\tres = mid\n",
    "\t\t\tlow = mid + 1\n",
    "\treturn res\n",
    "\n",
    "arr = [ 1, 2, 2, 2, 2, 3, 4, 7, 8, 8 ]\n",
    "n = len(arr)\n",
    "x = 8\n",
    "print(\"First Occurrence =\", first(arr, x, n))\n",
    "print(\"Last Occurrence =\", last(arr, x, n))"
   ]
  },
  {
   "cell_type": "markdown",
   "id": "e8eac666",
   "metadata": {},
   "source": [
    "## [Find a Fixed Point (Value equal to index) in a given array](https://practice.geeksforgeeks.org/problems/value-equal-to-index-value1330/1)"
   ]
  },
  {
   "cell_type": "code",
   "execution_count": null,
   "id": "6e764267",
   "metadata": {},
   "outputs": [],
   "source": [
    "\"\"\"\n",
    "  Input: arr[] = {-10, -5, 0, 3, 7}\n",
    "  Output: 3  // arr[3] == 3 \n",
    "\n",
    "  Input: arr[] = {0, 2, 5, 8, 17}\n",
    "  Output: 0  // arr[0] == 0 \n",
    "\n",
    "\n",
    "  Input: arr[] = {-10, -5, 3, 4, 7, 9}\n",
    "  Output: -1  // No Fixed Point\n",
    "\"\"\"\n",
    "\n",
    "def binarySearch(arr, low, high):\n",
    "\tif high >= low :\n",
    "\t\t\n",
    "\t\tmid = low + (high - low)//2\n",
    "\t\tif mid == arr[mid]:\n",
    "\t\t\treturn mid\n",
    "\t\tres = -1\n",
    "\t\tif mid + 1 <= arr[high]:\n",
    "\t\t\tres = binarySearch(arr, (mid + 1), high)\n",
    "\t\tif res !=-1:\n",
    "\t\t\treturn res\n",
    "\t\tif mid-1 >= arr[low]:\n",
    "\t\t\treturn binarySearch(arr, low, (mid -1))\n",
    "\treturn -1\n",
    "\n",
    "arr = [-10, -1, 0, 3, 10, 11, 30, 50, 100] # NOTE: ARRAY WILL BE SORTED\n",
    "n = len(arr)\n",
    "print(f\"Fixed Point is {str(binarySearch(arr, 0, n-1))}\")\n"
   ]
  },
  {
   "cell_type": "markdown",
   "id": "6445c673",
   "metadata": {},
   "source": [
    "## [Search in a rotated sorted array](https://leetcode.com/problems/search-in-rotated-sorted-array/)"
   ]
  },
  {
   "cell_type": "code",
   "execution_count": null,
   "id": "5e829681",
   "metadata": {},
   "outputs": [],
   "source": [
    "def search(nums, target):\n",
    "    low, high = 0, len(nums)-1\n",
    "    while low<=high:\n",
    "        mid = low + ((high - low))//2\n",
    "        if nums[mid]==target:\n",
    "            return mid\n",
    "        elif nums[low] <= nums[mid]:\n",
    "            if nums[low] <= target < nums[mid]:\n",
    "                high = mid-1\n",
    "            else:\n",
    "                low = mid+1\n",
    "        elif nums[mid] < target <= nums[high]:\n",
    "            low = mid+1\n",
    "        else:\n",
    "            high = mid-1\n",
    "    return -1\n",
    "    \n",
    "target=5\n",
    "nums=[5,6,1,2,3,4]\n",
    "print(target, \"found at index: \",search(nums,target))"
   ]
  },
  {
   "cell_type": "markdown",
   "id": "9a4746fd",
   "metadata": {},
   "source": [
    "## [square root of an integer](https://practice.geeksforgeeks.org/problems/count-squares3649/1)"
   ]
  },
  {
   "cell_type": "code",
   "execution_count": null,
   "id": "47430d47",
   "metadata": {},
   "outputs": [],
   "source": [
    "def floorSqrt(x):\n",
    "\tif x in [0, 1]:\n",
    "\t\treturn x\n",
    "\ti = 1\n",
    "\tresult = 1\n",
    "\twhile (result <= x):\n",
    "\t\ti += 1\n",
    "\t\tresult = i**2\n",
    "\treturn i - 1\n",
    "x = 11\n",
    "print(floorSqrt(x))"
   ]
  },
  {
   "cell_type": "markdown",
   "id": "a4e44f17",
   "metadata": {},
   "source": [
    "## [Find the repeating and the missing](https://practice.geeksforgeeks.org/problems/find-missing-and-repeating2512/1)"
   ]
  },
  {
   "cell_type": "code",
   "execution_count": null,
   "id": "d6b2f2cd",
   "metadata": {},
   "outputs": [],
   "source": [
    "def missandrepeat():\t\n",
    "\tarr = [ 4, 3, 6, 2, 1, 1 ]\n",
    "\tnumberMap = {}\n",
    "\tmax = len(arr)\n",
    "\tfor i in arr:\n",
    "\t\tif i not in numberMap:\n",
    "\t\t\tnumberMap[i] = True\n",
    "\t\telse:\n",
    "\t\t\tprint(\"Repeating =\", i)\n",
    "\tfor i in range(1, max + 1):\n",
    "\t\tif i not in numberMap:\n",
    "\t\t\tprint(\"Missing =\", i)\n",
    "missandrepeat()\n"
   ]
  },
  {
   "cell_type": "markdown",
   "id": "53e86850",
   "metadata": {},
   "source": [
    "## [Searching in an array where adjacent differ by at most k](https://www.geeksforgeeks.org/searching-array-adjacent-differ-k/)"
   ]
  },
  {
   "cell_type": "code",
   "execution_count": null,
   "id": "95418221",
   "metadata": {},
   "outputs": [],
   "source": [
    "\"\"\"\n",
    "Input : arr[] = {4, 5, 6, 7, 6}\n",
    "           k = 1\n",
    "           x = 6\n",
    "Output : 2\n",
    "The first index of 6 is 2.\n",
    "\n",
    "Input : arr[] = {20, 40, 50, 70, 70, 60}  \n",
    "          k = 20\n",
    "          x = 60\n",
    "Output : 5\n",
    "The index of 60 is 5\n",
    "\"\"\"\n",
    "\n",
    "def search(arr, n, x, k):\n",
    "\t# Traverse the given array starting from leftmost element\n",
    "\ti = 0\n",
    "\twhile (i < n):\n",
    "\t\tif (arr[i] == x):\n",
    "\t\t\treturn i\n",
    "\t\t# Jump the difference between current array element and x divided by k\n",
    "\t\t# We use max here to make sure that i moves at-least one step ahead.\n",
    "\t\ti += max(1, int(abs(arr[i] - x) / k))\n",
    "\tprint(\"number is not present!\")\n",
    "\treturn -1\n",
    "\n",
    "arr = [2, 4, 5, 7, 7, 6]\n",
    "x = 6\n",
    "k = 2\n",
    "n = len(arr)\n",
    "print(\"Element\", x, \"is present at index\",search(arr, n, x, k))"
   ]
  },
  {
   "cell_type": "markdown",
   "id": "df3a0351",
   "metadata": {},
   "source": [
    "## [find a pair with a given difference](https://practice.geeksforgeeks.org/problems/find-pair-given-difference/0)"
   ]
  },
  {
   "cell_type": "code",
   "execution_count": null,
   "id": "99075c4f",
   "metadata": {},
   "outputs": [],
   "source": [
    "\"\"\"\n",
    "Input : arr[] = {4, 5, 6, 7, 6}\n",
    "           k = 1\n",
    "           x = 6\n",
    "Output : 2\n",
    "The first index of 6 is 2.\n",
    "\n",
    "Input : arr[] = {20, 40, 50, 70, 70, 60}  \n",
    "          k = 20\n",
    "          x = 60\n",
    "Output : 5\n",
    "The index of 60 is 5\n",
    "\"\"\"\n",
    "def findPair(arr,n):\n",
    "\tsize = len(arr)\n",
    "\ti,j = 0,1\n",
    "\twhile i < size and j < size:\n",
    "\t\tif i != j and arr[j]-arr[i] == n:\n",
    "\t\t\tprint (f\"Pair found ({arr[i]} ,{arr[j]})\")\n",
    "\t\t\treturn True\n",
    "\n",
    "\t\telif arr[j] - arr[i] < n:\n",
    "\t\t\tj+=1\n",
    "\t\telse:\n",
    "\t\t\ti+=1\n",
    "\tprint (\"No pair found\")\n",
    "\treturn False\n",
    "\n",
    "arr = [1, 8, 30, 40, 100]\n",
    "n = 60\n",
    "findPair(arr, n)"
   ]
  },
  {
   "cell_type": "markdown",
   "id": "89d7fc36",
   "metadata": {},
   "source": [
    "## [find two elements that sum to a given value - TwoSum](https://practice.geeksforgeeks.org/problems/find-all-four-sum-numbers/0)"
   ]
  },
  {
   "cell_type": "code",
   "execution_count": null,
   "id": "487a9d0a",
   "metadata": {},
   "outputs": [],
   "source": [
    "def findPair(nums, target):\n",
    "    d = {}\n",
    "    for i, e in enumerate(nums):\n",
    "        if target - e in d:\n",
    "            print('Pair found', (nums[d.get(target - e)], nums[i]))\n",
    "            return\n",
    "        d[e] = i\n",
    "    print('Pair not found')\n",
    "\n",
    "nums = [8, 7, 2, 5, 3, 1]\n",
    "target = 10\n",
    "findPair(nums, target)"
   ]
  },
  {
   "cell_type": "markdown",
   "id": "eab8260a",
   "metadata": {},
   "source": [
    "## [find four elements that sum to a given value - ThreeSum](https://practice.geeksforgeeks.org/problems/find-all-four-sum-numbers/0)"
   ]
  },
  {
   "cell_type": "code",
   "execution_count": null,
   "id": "7e09352e",
   "metadata": {},
   "outputs": [],
   "source": [
    "def isTripletExist(nums, target):\n",
    "    d = {e: i for i, e in enumerate(nums)}\n",
    "    for i in range(len(nums) - 1):\n",
    "        for j in range(i + 1, len(nums)):\n",
    "            val = target - (nums[i] + nums[j])\n",
    "            if val in d and d[val] not in [i, j]:\n",
    "                return True\n",
    "    return False\n",
    " \n",
    "nums = [2, 7, 4, 0, 9, 5, 1, 3]\n",
    "target = 6\n",
    "if isTripletExist(nums, target):\n",
    "    print('Triplet exists')\n",
    "else:\n",
    "    print('Triplet doesn\\'t exist')"
   ]
  },
  {
   "cell_type": "markdown",
   "id": "63219a51",
   "metadata": {},
   "source": [
    "## [find four elements that sum to a given value - - FourSum](https://practice.geeksforgeeks.org/problems/find-all-four-sum-numbers/0)"
   ]
  },
  {
   "cell_type": "code",
   "execution_count": null,
   "id": "5f1cc7f7",
   "metadata": {},
   "outputs": [],
   "source": [
    "def hasQuadruplet(nums, target):\n",
    "    # create an empty dictionary\n",
    "    # key —> target of a pair in the list\n",
    "    # value —> list storing an index of every pair having that sum\n",
    "    d = {}\n",
    "    for i in range(len(nums) - 1):\n",
    "        for j in range(i + 1, len(nums)):\n",
    "            val = target - (nums[i] + nums[j])\n",
    "            if val in d:\n",
    "                for pair in d[val]:\n",
    "                    x, y = pair\n",
    "                    if x not in [i, j] and y not in [i, j]:\n",
    "                        print('Quadruplet Found', (nums[i], nums[j], nums[x], nums[y]))\n",
    "                        return True\n",
    "            d.setdefault(nums[i] + nums[j], []).append((i, j))\n",
    "    return False\n",
    " \n",
    "nums = [2, 7, 4, 0, 9, 5, 1, 3]\n",
    "target = 20\n",
    "if not hasQuadruplet(nums, target):\n",
    "    print('Quadruplet doesn\\'t exist')\n",
    " "
   ]
  },
  {
   "cell_type": "markdown",
   "id": "bb820f52",
   "metadata": {},
   "source": [
    "## [maximum sum such that no 2 elements are adjacent](https://practice.geeksforgeeks.org/problems/stickler-theif/0)"
   ]
  },
  {
   "cell_type": "code",
   "execution_count": null,
   "id": "af175c62",
   "metadata": {},
   "outputs": [],
   "source": [
    "\"\"\"\n",
    "Input: arr[] = {5, 5, 10, 100, 10, 5}\n",
    "Output: 110\n",
    "Explanation: Pick the subsequence {5, 100, 5}.\n",
    "The sum is 110 and no two elements are adjacent. This is the highest possible sum.\n",
    "\n",
    "Input: arr[] = {3, 2, 7, 10}\n",
    "Output: 13\n",
    "Explanation: The subsequence is {3, 10}. This gives sum = 13.\n",
    "This is the highest possible sum of a subsequence following the given criteria\n",
    "\n",
    "Input: arr[] = {3, 2, 5, 10, 7}\n",
    "Output: 15\n",
    "Explanation: Pick the subsequence {3, 5, 7}. The sum is 15.\n",
    "\"\"\"\n",
    "\n",
    "def findMaxSum(arr, n):\n",
    "    incl = 0\n",
    "    excl = 0   \n",
    "    for i in arr:\n",
    "        new_excl = max (excl, incl)\n",
    "        incl = excl + i\n",
    "        excl = new_excl\n",
    "    return max(excl, incl)\n",
    "\n",
    "arr = [5, 5, 10, 100, 10, 5]\n",
    "N = 6\n",
    "print (findMaxSum(arr, N))"
   ]
  },
  {
   "cell_type": "markdown",
   "id": "1b802c02",
   "metadata": {},
   "source": [
    "## [Count triplet with sum smaller than a given value](https://practice.geeksforgeeks.org/problems/count-triplets-with-sum-smaller-than-x5549/1)"
   ]
  },
  {
   "cell_type": "code",
   "execution_count": null,
   "id": "80960230",
   "metadata": {},
   "outputs": [],
   "source": [
    "def countTriplets(arr,n,sum):\n",
    "\tarr.sort()\n",
    "\tans = 0\n",
    "\t# Every iteration of loop counts triplet with first element as arr[i].\n",
    "\tfor i in range(n-2):\n",
    "\n",
    "\t\t# Initialize other two elements as corner elements of subarray arr[j+1..k]\n",
    "\t\tj = i + 1\n",
    "\t\tk = n-1\n",
    "\n",
    "\t\twhile(j < k):\n",
    "\t\t\t# If sum of current triplet is more or equal, move right corner to look for smaller values\n",
    "\t\t\tif (arr[i]+arr[j]+arr[k] >=sum):\n",
    "\t\t\t\tk = k-1\n",
    "\t\t\t# Else move left corner\n",
    "\t\t\telse:\n",
    "\t\t\t\t# This is important. For current i and j, there can be total k-j third elements.\n",
    "\t\t\t\tans += (k - j)\n",
    "\t\t\t\tj = j+1\n",
    "\treturn ans\n",
    "\n",
    "arr = [5, 1, 3, 4, 7]\n",
    "n = len(arr)\n",
    "target = 12\n",
    "print(countTriplets(arr, n, target))"
   ]
  },
  {
   "cell_type": "markdown",
   "id": "1cf4118b",
   "metadata": {},
   "source": [
    "## [print all subarrays with 0 sum](https://practice.geeksforgeeks.org/problems/zero-sum-subarrays/0)"
   ]
  },
  {
   "cell_type": "code",
   "execution_count": null,
   "id": "c148760e",
   "metadata": {},
   "outputs": [],
   "source": [
    "def findSubArrays(arr,n):\n",
    "\t# create a python dict\n",
    "\thashMap = {}\n",
    "\t# create a python list equivalent to ArrayList\n",
    "\tout = []\n",
    "\t# tracker for sum of elements\n",
    "\tsum1 = 0\n",
    "\tfor i in range(n):\n",
    "\t\tsum1 += arr[i]\n",
    "\t\tif sum1 == 0:\n",
    "\t\t\tout.append((0, i))\n",
    "\t\tal = []\n",
    "\t\tif sum1 in hashMap:\n",
    "\t\t\tal = hashMap.get(sum1)\n",
    "\t\t\tfor it in range(len(al)):\n",
    "\t\t\t\tout.append((al[it] + 1, i))\n",
    "\t\tal.append(i)\n",
    "\t\thashMap[sum1] = al\n",
    "\treturn out\n",
    "\n",
    "def printOutput(output):\n",
    "\tfor i in output:\n",
    "\t\tprint(f\"Subarray found from Index {str(i[0])} to {str(i[1])}\")\n",
    "\n",
    "arr = [6, 3, -1, -3, 4, -2,\n",
    "\t\t2, 4, 6, -12, -7]\n",
    "n = len(arr)\n",
    "out = findSubArrays(arr, n)\n",
    "# if we did not find any subarray with 0 sum, then subarray does not exists\n",
    "if (len(out) == 0):\n",
    "\tprint (\"No subarray exists\")\n",
    "else:\n",
    "\tprintOutput (out)"
   ]
  },
  {
   "cell_type": "markdown",
   "id": "3877628c",
   "metadata": {},
   "source": [
    "## [Product array Puzzle](https://practice.geeksforgeeks.org/problems/product-array-puzzle/0)"
   ]
  },
  {
   "cell_type": "code",
   "execution_count": null,
   "id": "4bf39cdd",
   "metadata": {},
   "outputs": [],
   "source": [
    "\"\"\" \n",
    "Given an array arr[] of n integers, construct a Product Array prod[] (of same size) such that prod[i] is equal to the product of all the elements of arr[] except arr[i]. Solve it without division operator and in O(n).\n",
    "Example: \n",
    "\n",
    "Input: arr[] = {10, 3, 5, 6, 2}\n",
    "Output: prod[] = {180, 600, 360, 300, 900}\n",
    "The elements of output array are \n",
    "{3*5*6*2, 10*5*6*2, 10*3*6*2, \n",
    "10*3*5*2, 10*3*5*6}\n",
    "\n",
    "Input: arr[] = {1, 2, 1, 3, 4}\n",
    "Output: prod[] = {24, 12, 24, 8, 6}\n",
    "The elements of output array are \n",
    "{3*4*1*2, 1*1*3*4, 4*3*2*1, \n",
    "1*1*4*2, 1*1*3*2}\n",
    "\"\"\"\n",
    "def solve(arr, n):\n",
    "\t# Initialize a variable to store the total product of the array elements\n",
    "\tprod = 1\n",
    "\tfor i in arr:\n",
    "\t\tprod *= i\n",
    "\n",
    "\t# we know x / y mathematically is same as x*(y to power -1)\n",
    "\tfor i in arr:\n",
    "\t\tprint(int(prod*(i**-1)), end =\" \")\n",
    "\n",
    "arr = [10, 3, 5, 6, 2]\n",
    "n = len(arr)\n",
    "solve(arr, n)"
   ]
  },
  {
   "cell_type": "markdown",
   "id": "ada53e56",
   "metadata": {},
   "source": [
    "## [Sort array according to count of set bits](https://practice.geeksforgeeks.org/problems/sort-by-set-bit-count/0)"
   ]
  },
  {
   "cell_type": "code",
   "execution_count": null,
   "id": "5d109399",
   "metadata": {},
   "outputs": [],
   "source": [
    "\"\"\" \n",
    "Input: arr[] = {5, 2, 3, 9, 4, 6, 7, 15, 32};\n",
    "Output: 15 7 5 3 9 6 2 4 32\n",
    "Explanation:\n",
    "The integers in their binary representation are:\n",
    "    15 -1111\n",
    "    7  -0111\n",
    "    5  -0101\n",
    "    3  -0011\n",
    "    9  -1001\n",
    "    6  -0110\n",
    "    2  -0010\n",
    "    4- -0100\n",
    "    32 -10000\n",
    "hence the non-increasing sorted order is:\n",
    "{15}, {7}, {5, 3, 9, 6}, {2, 4, 32}\n",
    "\"\"\"\n",
    "def countSetBits(val):\n",
    "\tcnt = 0\n",
    "\twhile val:\n",
    "\t\tcnt += val % 2\n",
    "\t\tval = val//2\n",
    "\treturn cnt\n",
    "\n",
    "# Using custom comparator lambda function\n",
    "arr = [1, 2, 3, 4, 5, 6]\n",
    "\n",
    "# form a tuple with val, index\n",
    "n = len(arr)\n",
    "arr = [(arr[i], i) for i in range(n)]\n",
    "\n",
    "# first criteria to sort is number of set bits, then the index\n",
    "sorted_arr = sorted(arr, key=lambda val: (\n",
    "\tcountSetBits(val[0]), n-val[1]), reverse=True)\n",
    "sorted_arr = [val[0] for val in sorted_arr]\n",
    "print(sorted_arr)"
   ]
  },
  {
   "cell_type": "markdown",
   "id": "b5c08941",
   "metadata": {},
   "source": [
    "## [minimum no. of swaps required to sort the array](https://practice.geeksforgeeks.org/problems/minimum-swaps/1)"
   ]
  },
  {
   "cell_type": "code",
   "execution_count": null,
   "id": "2a388de8",
   "metadata": {},
   "outputs": [],
   "source": [
    "\"\"\" \n",
    "Given an array of n distinct elements, find the minimum number of swaps required to sort the array.\n",
    "Input: {4, 3, 2, 1}\n",
    "Output: 2\n",
    "Explanation: Swap index 0 with 3 and 1 with 2 to \n",
    "              form the sorted array {1, 2, 3, 4}.\t\n",
    "\"\"\"\n",
    "\n",
    "def minSwaps(arr, N):\n",
    "\tans = 0\n",
    "\ttemp = arr.copy()\n",
    "\ttemp.sort()\n",
    "\tfor i in range(N):\n",
    "\t\t# This is checking whether the current element is at the right place or not\n",
    "\t\tif (arr[i] != temp[i]):\n",
    "\t\t\tans += 1\n",
    "\t\t\t# Swap the current element with the right index so that arr[0] to arr[i] is sorted\n",
    "\t\t\tswap(arr, i,\n",
    "\t\t\t\tindexOf(arr, temp[i]))\n",
    "\treturn ans\n",
    "\n",
    "def swap(arr, i, j):\n",
    "\tarr[i], arr[j]= arr[j], arr[i]\n",
    "\n",
    "\n",
    "def indexOf(arr, ele):\n",
    "\tfor i in range(len(arr)):\t\n",
    "\t\tif (arr[i] == ele):\n",
    "\t\t\t\treturn i\n",
    "\treturn -1\n",
    "\n",
    "a = [101, 758, 315, 730, 472, 619, 460, 479]\n",
    "n = len(a)\n",
    "print(minSwaps(a, n))"
   ]
  },
  {
   "cell_type": "markdown",
   "id": "5606e526",
   "metadata": {},
   "source": [
    "## [Find pivot element in a sorted array](http://theoryofprogramming.com/2017/12/16/find-pivot-element-sorted-rotated-array/)"
   ]
  },
  {
   "cell_type": "code",
   "execution_count": null,
   "id": "b8d94af9",
   "metadata": {},
   "outputs": [],
   "source": [
    "def findPivot(arr, left, right):\n",
    "\tif right< left:\n",
    "\t\treturn -1\n",
    "\tif right == left:\n",
    "\t\treturn left\n",
    "\tmid = (left+right)//2\n",
    "\tif mid<right and arr[mid]>arr[mid+1]:\n",
    "\t\treturn mid\n",
    "\tif mid>left and arr[mid]<arr[mid-1]:\n",
    "\t\treturn mid-1\n",
    "\tif arr[left]<arr[mid]:\n",
    "\t\treturn findPivot(arr, mid+1, right)\n",
    "\telse:\n",
    "\t\treturn findPivot(arr, left, mid-1)\n",
    "\n",
    "arr=[14, 23, 7, 9, 3, 6, 18, 22, 16, 36]\n",
    "start=0\n",
    "n=len(arr)-1\n",
    "pivot=findPivot(arr, start, n)\n",
    "pivot+=1 # pivot is the index of the first element in the right subarray\n",
    "print(f'Pivot is {arr[pivot]}')"
   ]
  },
  {
   "cell_type": "markdown",
   "id": "579c8248",
   "metadata": {},
   "source": [
    "## [K-th Element of Two Sorted Arrays](https://practice.geeksforgeeks.org/problems/k-th-element-of-two-sorted-array/0)"
   ]
  },
  {
   "cell_type": "code",
   "execution_count": null,
   "id": "e758a3f5",
   "metadata": {},
   "outputs": [],
   "source": [
    "\"\"\"Given two sorted arrays of size m and n respectively, you are tasked with finding the element that would be at the k’th position of the final sorted array.\n",
    "\n",
    "Examples: \n",
    "\n",
    "Input : Array 1 - 2 3 6 7 9\n",
    "        Array 2 - 1 4 8 10\n",
    "        k = 5\n",
    "Output : 6\n",
    "Explanation: The final sorted array would be -\n",
    "1, 2, 3, 4, 6, 7, 8, 9, 10\n",
    "The 5th element of this array is 6.\n",
    "\"\"\"\n",
    "\n",
    "def find(A, B, m, n, k_req):   \n",
    "    i, j, k = 0, 0, 0\n",
    "    # Keep taking smaller of the current elements of two sorted arrays and keep incrementing k\n",
    "    while i < len(A) and j < len(B):\n",
    "        k += 1\n",
    "        if A[i] < B[j]:\n",
    "            if k == k_req:\n",
    "                return A[i]\n",
    "            i += 1\n",
    "        elif k == k_req:\n",
    "            return B[j]\n",
    "        else:\n",
    "            j += 1\n",
    "\n",
    "    # If array B[] is completely traversed\n",
    "    while i < len(A):\n",
    "        k += 1\n",
    "        if k == k_req:\n",
    "                return A[i]\n",
    "        i += 1\n",
    "\n",
    "    # If array A[] is completely traversed\n",
    "    while j < len(B):\n",
    "        k += 1\n",
    "        if k == k_req:\n",
    "                return B[j]\n",
    "        j += 1\n",
    " \n",
    "A = [2, 3, 6, 7, 9]\n",
    "B = [1, 4, 8, 10]\n",
    "k = 5;\n",
    "print(find(A, B, 5, 4, k))"
   ]
  },
  {
   "cell_type": "markdown",
   "id": "20e1731e",
   "metadata": {},
   "source": [
    "## [Aggressive cows](https://www.spoj.com/problems/AGGRCOW/)"
   ]
  },
  {
   "cell_type": "code",
   "execution_count": null,
   "id": "3db9071c",
   "metadata": {},
   "outputs": [],
   "source": [
    "\"\"\"\n",
    "Problem Statement: There is a new barn with N stalls and C cows. The stalls are located on a straight line at positions x1,….,xN (0 <= xi <= 1,000,000,000). We want to assign the cows to the stalls, such that the minimum distance between any two of them is as large as possible. What is the largest minimum distance?\n",
    "\n",
    "Examples:\n",
    "\n",
    "Input: No of stalls = 5 \n",
    "       Array: {1,2,8,4,9}\n",
    "       And number of cows: 3\n",
    "\n",
    "Output: One integer, the largest minimum distance 3\n",
    "\"\"\"\n",
    "\n",
    "def isPossible(a, n, cows, mid):\n",
    "\tCntCows = 1\n",
    "\tlastPlacedCow=a[0]\n",
    "\tfor i in range(1, n):\n",
    "\t\tif a[i] -lastPlacedCow >= mid:\n",
    "\t\t\tCntCows+=1\n",
    "\t\t\tlastPlacedCow=a[i]\n",
    "\treturn CntCows >= cows\n",
    "\n",
    "n = 5\n",
    "cows = 3;\n",
    "a=[1,2,8,4,9]\n",
    "a.sort()\n",
    "low = 1\n",
    "high = a[n - 1] - a[0]\n",
    "while low< high:\n",
    "\tmid = (low + high)//2\n",
    "\tif isPossible(a, n, cows, mid):\n",
    "\t\tlow=mid+1\n",
    "\telse:\n",
    "\t\thigh=mid-1\n",
    "print(f'Largest minimum distance is: {high}')"
   ]
  },
  {
   "cell_type": "markdown",
   "id": "c1ac0f34",
   "metadata": {},
   "source": [
    "## [Book Allocation Problem](https://practice.geeksforgeeks.org/problems/allocate-minimum-number-of-pages/0)"
   ]
  },
  {
   "cell_type": "code",
   "execution_count": null,
   "id": "07710e3a",
   "metadata": {},
   "outputs": [],
   "source": [
    "\"\"\"\n",
    "Given number of pages in n different books and m students. The books are arranged in ascending order of number of pages. Every student is assigned to read some consecutive books. The task is to assign books in such a way that the maximum number of pages assigned to a student is minimum. \n",
    "Example : \n",
    " \n",
    "\n",
    "Input : pages[] = {12, 34, 67, 90} , m = 2\n",
    "Output : 113\n",
    "Explanation:\n",
    "There are 2 number of students. Books can be distributed \n",
    "in following fashion : \n",
    "  1) [12] and [34, 67, 90]\n",
    "      Max number of pages is allocated to student \n",
    "      '2' with 34 + 67 + 90 = 191 pages\n",
    "  2) [12, 34] and [67, 90]\n",
    "      Max number of pages is allocated to student\n",
    "      '2' with 67 + 90 = 157 pages \n",
    "  3) [12, 34, 67] and [90]\n",
    "      Max number of pages is allocated to student \n",
    "      '1' with 12 + 34 + 67 = 113 pages\n",
    "\n",
    "Of the 3 cases, Option 3 has the minimum pages = 113.\n",
    "\"\"\"\n",
    "\n",
    "def isPossible(arr, n, m, curr_min):\n",
    "\tstudentsRequired = 1\n",
    "\tcurr_sum = 0\n",
    "\tfor i in range(n):\n",
    "\n",
    "\t\t# check if current number of pages are greater than curr_min that means we will get the result after mid no. of pages\n",
    "\t\tif (arr[i] > curr_min):\n",
    "\t\t\treturn False\n",
    "\n",
    "\t\t# count how many students are required to distribute curr_min pages\n",
    "\t\tif (curr_sum + arr[i] > curr_min):\n",
    "\n",
    "\t\t\t# increment student count\n",
    "\t\t\tstudentsRequired += 1\n",
    "\n",
    "\t\t\t# update curr_sum\n",
    "\t\t\tcurr_sum = arr[i]\n",
    "\n",
    "\t\t\t# if students required becomes greater than given no. of students, return False\n",
    "\t\t\tif (studentsRequired > m):\n",
    "\t\t\t\treturn False\n",
    "\n",
    "\t\t# else update curr_sum\n",
    "\t\telse:\n",
    "\t\t\tcurr_sum += arr[i]\n",
    "\n",
    "\treturn True\n",
    "\n",
    "# function to find minimum pages\n",
    "def findPages(arr, n, m):\n",
    "\t# return -1 if no. of books is less than no. of students\n",
    "\tif (n < m):\n",
    "\t\treturn -1\n",
    "\n",
    "\tmysum = sum(arr[i] for i in range(n))\n",
    "\t# initialize start as 0 pages and end as total pages\n",
    "\tstart, end = 0, mysum\n",
    "\tresult = 10**9\n",
    "\n",
    "\t# traverse until start <= end\n",
    "\twhile (start <= end):\n",
    "\n",
    "\t\t# check if it is possible to distribute books by using mid as current minimum\n",
    "\t\tmid = (start + end) // 2\n",
    "\t\tif (isPossible(arr, n, m, mid)):\n",
    "\n",
    "\t\t\t# update result to current distribution as it's the best we have found till now.\n",
    "\t\t\tresult = mid\n",
    "\n",
    "\t\t\t# as we are finding minimum and books are sorted so reduce end = mid -1 that means\n",
    "\t\t\tend = mid - 1\n",
    "\n",
    "\t\telse:\n",
    "\t\t\t# if not possible means pages should be increased so update start = mid + 1\n",
    "\t\t\tstart = mid + 1\n",
    "\n",
    "\t# at-last return minimum no. of pages\n",
    "\treturn result\n",
    "\n",
    "arr = [12, 34, 67, 90]  # Number of pages in books\n",
    "n = len(arr)\n",
    "m = 2 # No. of students\n",
    "print(\"Minimum number of pages = \",findPages(arr, n, m))"
   ]
  },
  {
   "cell_type": "markdown",
   "id": "e0d916f0",
   "metadata": {},
   "source": [
    "## [EKOSPOJ:](https://www.spoj.com/problems/EKO/)"
   ]
  },
  {
   "cell_type": "code",
   "execution_count": null,
   "id": "b80c373a",
   "metadata": {},
   "outputs": [],
   "source": [
    "TODO"
   ]
  },
  {
   "cell_type": "markdown",
   "id": "c06c9e6a",
   "metadata": {},
   "source": [
    "## [Missing Number in AP](https://practice.geeksforgeeks.org/problems/arithmetic-number/0)"
   ]
  },
  {
   "cell_type": "code",
   "execution_count": null,
   "id": "5941d914",
   "metadata": {},
   "outputs": [],
   "source": [
    "\"\"\"\n",
    "Given an array that represents elements of arithmetic progression in order. One element is missing in the progression, find the missing number. \n",
    "\n",
    "Examples: \n",
    "\n",
    "Input: arr[]  = {2, 4, 8, 10, 12, 14}\n",
    "Output: 6\n",
    "\n",
    "Input: arr[]  = {1, 6, 11, 16, 21, 31};\n",
    "Output: 26\n",
    "\"\"\"\n",
    "\n",
    "def find_missing(arr, n):\n",
    "\tfirst = arr[0]\n",
    "\tlast = arr[-1]\n",
    "\n",
    "\tif (first + last) % 2:\n",
    "\t\ts = (n + 1) / 2\n",
    "\t\ts *= (first + last)\n",
    "\telse:\n",
    "\t\ts = (first + last) / 2\n",
    "\t\ts *= (n + 1)\n",
    "\n",
    "\treturn s - sum(arr)\n",
    "\n",
    "arr = [2, 4, 8, 10, 12, 14]\n",
    "n = len(arr)\n",
    "missing = find_missing(arr, n)\n",
    "print(missing)"
   ]
  },
  {
   "cell_type": "markdown",
   "id": "96b89559",
   "metadata": {},
   "source": [
    "## [Smallest number with atleastn trailing zeroes infactorial](https://practice.geeksforgeeks.org/problems/smallest-factorial-number5929/1)"
   ]
  },
  {
   "cell_type": "code",
   "execution_count": null,
   "id": "a6e75769",
   "metadata": {},
   "outputs": [],
   "source": [
    "\"\"\"\n",
    "Given a number n. The task is to find the smallest number whose factorial contains at least n trailing zeroes.\n",
    "Examples : \n",
    " \n",
    "\n",
    "Input : n = 1\n",
    "Output : 5 \n",
    "1!, 2!, 3!, 4! does not contain trailing zero.\n",
    "5! = 120, which contains one trailing zero.\n",
    "\n",
    "Input : n = 6\n",
    "Output : 25\n",
    "\"\"\"\n",
    "\n",
    "def check(p,n):\n",
    "    temp = p\n",
    "    count = 0\n",
    "    f = 5\n",
    "    while (f <= temp):\n",
    "        count += temp//f\n",
    "        f *= 5\n",
    "    return (count >= n)\n",
    " \n",
    "# Return smallest number whose factorial contains at least n trailing zeroes\n",
    "def findNum(n):\n",
    "    # If n equal to 1, return 5. since 5! = 120.\n",
    "    if (n==1):\n",
    "        return 5\n",
    "    # Initializing low and high for binary search.\n",
    "    low = 0\n",
    "    high = 5*n\n",
    "  \n",
    "    while (low <high):\n",
    "        mid = (low + high) >> 1\n",
    "        # Checking if mid's factorial contains n trailing zeroes.\n",
    "        if (check(mid, n)):\n",
    "            high = mid\n",
    "        else:\n",
    "            low = mid+1\n",
    "    return low\n",
    " \n",
    "n = 6\n",
    "print(findNum(n))"
   ]
  },
  {
   "cell_type": "markdown",
   "id": "50bceabd",
   "metadata": {},
   "source": [
    "## [ROTI-Prata SPOJ](https://www.spoj.com/problems/PRATA/)"
   ]
  },
  {
   "cell_type": "code",
   "execution_count": null,
   "id": "e4249e9b",
   "metadata": {},
   "outputs": [],
   "source": [
    "TODO"
   ]
  },
  {
   "cell_type": "markdown",
   "id": "50d4248e",
   "metadata": {},
   "source": [
    "## [DoubleHelix SPOJ](https://www.spoj.com/problems/ANARC05B/)"
   ]
  },
  {
   "cell_type": "code",
   "execution_count": null,
   "id": "f75108ca",
   "metadata": {},
   "outputs": [],
   "source": [
    "TODO"
   ]
  },
  {
   "cell_type": "markdown",
   "id": "4899dcbb",
   "metadata": {},
   "source": [
    "## [Subset Sums](https://www.spoj.com/problems/SUBSUMS/)"
   ]
  },
  {
   "cell_type": "code",
   "execution_count": null,
   "id": "15474a16",
   "metadata": {},
   "outputs": [],
   "source": [
    "\"\"\"\n",
    "Given an array of integers, print sums of all subsets in it. Output sums can be printed in any order.\n",
    "\n",
    "Examples : \n",
    "Input : arr[] = {2, 3}\n",
    "Output: 0 2 3 5\n",
    "\n",
    "Input : arr[] = {2, 4, 5}\n",
    "Output : 0 2 4 5 6 7 9 11\n",
    "\"\"\"\n",
    "\n",
    "def subsetSums(arr, l, r, sum=0):\n",
    "    # Print current subset\n",
    "    if l > r:\n",
    "        print(sum, end=\" \")\n",
    "        return\n",
    "    # Subset including arr[l]\n",
    "    subsetSums(arr, l + 1, r, sum + arr[l])\n",
    "    # Subset excluding arr[l]\n",
    "    subsetSums(arr, l + 1, r, sum)\n",
    " \n",
    "arr = [5, 4, 3]\n",
    "n = len(arr)\n",
    "subsetSums(arr, 0, n - 1)"
   ]
  },
  {
   "cell_type": "markdown",
   "id": "ea5a7849",
   "metadata": {},
   "source": [
    "## [Implement Merge-sort in-place](https://www.geeksforgeeks.org/in-place-merge-sort/)"
   ]
  },
  {
   "cell_type": "code",
   "execution_count": null,
   "id": "d0c6b02d",
   "metadata": {},
   "outputs": [],
   "source": [
    "\"\"\"\n",
    "NOTE: TIME COMPLEXITY IS HIGHER THAN STANDARD MERGE SORT BUT SPACE COMPLEXITY IS O(1)\n",
    "\"\"\"\n",
    "def merge(arr, start, mid, end):\n",
    "\tstart2 = mid + 1\n",
    "\t# If the direct merge is already sorted\n",
    "\tif (arr[mid] <= arr[start2]):\n",
    "\t\treturn\n",
    "\t# Two pointers to maintain start of both arrays to merge\n",
    "\twhile (start <= mid and start2 <= end):\n",
    "\t\t# If element 1 is in right place\n",
    "\t\tif arr[start] > arr[start2]:\n",
    "\t\t\tvalue = arr[start2]\n",
    "\t\t\tindex = start2\n",
    "\t\t\t# Shift all the elements between element 1 element 2, right by 1.\n",
    "\t\t\twhile (index != start):\n",
    "\t\t\t\tarr[index] = arr[index - 1]\n",
    "\t\t\t\tindex -= 1\n",
    "\t\t\tarr[start] = value\n",
    "\t\t\tmid += 1\n",
    "\t\t\tstart2 += 1\n",
    "\t\tstart += 1\n",
    "\n",
    "\n",
    "def mergeSort(arr, l, r):\n",
    "\tif (l < r):\n",
    "\t\t# Same as (l + r) / 2, but avoids overflow for large l and r\n",
    "\t\tm = l + (r - l) // 2\n",
    "\t\t# Sort first and second halves\n",
    "\t\tmergeSort(arr, l, m)\n",
    "\t\tmergeSort(arr, m + 1, r)\n",
    "\t\tmerge(arr, l, m, r)\n",
    "\n",
    "arr = [12, 11, 13, 5, 6, 7]\n",
    "arr_size = len(arr)\n",
    "mergeSort(arr, 0, arr_size - 1)\n",
    "print(arr)"
   ]
  },
  {
   "cell_type": "code",
   "execution_count": 1,
   "metadata": {},
   "outputs": [
    {
     "name": "stdout",
     "output_type": "stream",
     "text": [
      "[-99, 0, 1, 2, 3, 4, 5]\n"
     ]
    }
   ],
   "source": [
    "def bubble_sort(arr):\n",
    "    n=len(arr)\n",
    "    for i in range(n):\n",
    "        for j in range(n-i-1):\n",
    "            if arr[j]>arr[j+1]:\n",
    "                arr[j],arr[j+1]=arr[j+1],arr[j]\n",
    "                \n",
    "\n",
    "array=[5,2,3,1,4, -99, 0]\n",
    "bubble_sort(array)\n",
    "print(array)"
   ]
  }
 ],
 "metadata": {
  "kernelspec": {
   "display_name": "Python 3.10.0 64-bit",
   "language": "python",
   "name": "python3"
  },
  "language_info": {
   "codemirror_mode": {
    "name": "ipython",
    "version": 3
   },
   "file_extension": ".py",
   "mimetype": "text/x-python",
   "name": "python",
   "nbconvert_exporter": "python",
   "pygments_lexer": "ipython3",
   "version": "3.10.0"
  },
  "orig_nbformat": 4,
  "vscode": {
   "interpreter": {
    "hash": "26de051ba29f2982a8de78e945f0abaf191376122a1563185a90213a26c5da77"
   }
  }
 },
 "nbformat": 4,
 "nbformat_minor": 2
}
