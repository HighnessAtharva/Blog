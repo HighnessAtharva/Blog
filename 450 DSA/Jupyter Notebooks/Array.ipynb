{
 "cells": [
  {
   "cell_type": "markdown",
   "metadata": {},
   "source": [
    "# Array"
   ]
  },
  {
   "cell_type": "markdown",
   "metadata": {},
   "source": [
    "## [Reverse the array](https://practice.geeksforgeeks.org/problems/reverse-an-array/0)"
   ]
  },
  {
   "cell_type": "code",
   "execution_count": null,
   "metadata": {},
   "outputs": [],
   "source": [
    "def reverseArray(arr):\n",
    "    start, end = 0, len(arr) - 1\n",
    "    while start < end:\n",
    "        arr[start], arr[end] = arr[end], arr[start]\n",
    "        start += 1\n",
    "        end -= 1\n",
    "\n",
    "A=[1,54,21,51,2,353,2,1,99,121,5,5]\n",
    "reverseArray(A)\n",
    "print(\"After reversing:\", A)"
   ]
  },
  {
   "cell_type": "markdown",
   "metadata": {},
   "source": [
    "## [Find the maximum and minimum element in an array](https://practice.geeksforgeeks.org/problems/find-minimum-and-maximum-element-in-an-array4428/1)"
   ]
  },
  {
   "cell_type": "code",
   "execution_count": null,
   "metadata": {},
   "outputs": [],
   "source": [
    "def getMinMax(arr):\n",
    "    min = arr[0]\n",
    "    max = arr[0]\n",
    "    for i in range(1, len(arr)):\n",
    "        if arr[i] < min:\n",
    "            min = arr[i]\n",
    "        if arr[i] > max:\n",
    "            max = arr[i]\n",
    "    return min, max\n",
    "\n",
    "arr = [1000, 11, 445, 1, 330, 3000]\n",
    "min, max = getMinMax(arr)\n",
    "print(\"Minimum element is\", min)\n",
    "print(\"Maximum element is\", max)"
   ]
  },
  {
   "cell_type": "markdown",
   "metadata": {},
   "source": [
    "\n",
    "## [Find the \"Kth\" max and min element of an array](https://practice.geeksforgeeks.org/problems/kth-smallest-element/0)\n"
   ]
  },
  {
   "cell_type": "code",
   "execution_count": null,
   "metadata": {},
   "outputs": [],
   "source": [
    "def kthSmallest(arr, k):\n",
    "    return sorted(arr)[k-1]\n",
    "\n",
    "def kthLargest(arr, k):\n",
    "    return sorted(arr, reverse=True)[k-1]\n",
    " \n",
    "nums = [1, 4, 5, 3, 19, 1, 90, 99, 100]\n",
    "k = 3\n",
    "print(\"K'th smallest element is\", kthSmallest(nums, k))\n",
    "print(\"K'th largest element is\", kthLargest(nums, k))"
   ]
  },
  {
   "cell_type": "markdown",
   "metadata": {},
   "source": [
    "## [Given an array which consists of only 0, 1 and 2. Sort the array without using any sorting algo](https://practice.geeksforgeeks.org/problems/sort-an-array-of-0s-1s-and-2s/0)"
   ]
  },
  {
   "cell_type": "code",
   "execution_count": null,
   "metadata": {},
   "outputs": [],
   "source": [
    "def sort012(arr):\n",
    "    start, mid=0,0\n",
    "    end=len(arr)-1\n",
    "    while mid<=end:\n",
    "        if arr[mid]==0:\n",
    "            arr[start], arr[mid]=arr[mid], arr[start]\n",
    "            start+=1\n",
    "            mid+=1\n",
    "        elif arr[mid]==1:\n",
    "            mid+=1\n",
    "        else:\n",
    "            arr[mid], arr[end]=arr[end], arr[mid]\n",
    "            end-=1\n",
    "    return arr\n",
    "    \n",
    "A=[0,0,0,2,2,2,1,1,1,0,2,1,1,2,0]\n",
    "print(\"After sorting:\",sort012(A))"
   ]
  },
  {
   "cell_type": "markdown",
   "metadata": {},
   "source": [
    "## [Move all the negative elements to one side of the array](https://practice.geeksforgeeks.org/problems/move-all-negative-elements-to-end1813/1)\n"
   ]
  },
  {
   "cell_type": "code",
   "execution_count": null,
   "metadata": {},
   "outputs": [],
   "source": [
    "def RearrangePosNeg(arr):\n",
    "    n=len(arr)\n",
    "    for i in range(1, n):\n",
    "        key=arr[i]\n",
    "        \n",
    "        # if current element is positive do nothing\n",
    "        if key>0:\n",
    "            continue\n",
    "        \n",
    "        # if current element is negative, shift positive elements of arr[0..i-1], to one position to their right\n",
    "        j=i-1\n",
    "        while(j>0 and arr[j]>=0):\n",
    "            arr[j+1]=arr[j]\n",
    "            j-=1\n",
    "\n",
    "        # putting negative elements in thier position\n",
    "        arr[j+1]=key\n",
    "\n",
    "arr = [-12, 11, 0 ,-13, -5, 6, -7, 5, -3, -6]\n",
    "RearrangePosNeg(arr)\n",
    "print(arr)"
   ]
  },
  {
   "cell_type": "markdown",
   "metadata": {},
   "source": [
    "## [Find the Union and Intersection of the two sorted arrays.](https://practice.geeksforgeeks.org/problems/union-of-two-arrays/0)"
   ]
  },
  {
   "cell_type": "code",
   "execution_count": null,
   "metadata": {},
   "outputs": [],
   "source": [
    "def Union(arr1, arr2):\n",
    "    union = {arr1[i] for i in range(len(arr1))}\n",
    "    for i in range(len(arr2)):\n",
    "        union.add(arr2[i])\n",
    "    return union, len(union)\n",
    "\n",
    "def Intersection(arr1, arr2):\n",
    "    intersection = {i for i in arr1 if i in arr2}\n",
    "    return intersection, len(intersection)\n",
    "\n",
    "\n",
    "arr1 = [7, 1, 5, 2, 3, 6]\n",
    "arr2 = [3, 8, 6, 20, 7,2,99,100,1, 5]\n",
    "print(Union(arr1, arr2)) \n",
    "print(Intersection(arr1, arr2))"
   ]
  },
  {
   "cell_type": "markdown",
   "metadata": {},
   "source": [
    "## [Write a program to cyclically rotate an array by one.](https://practice.geeksforgeeks.org/problems/cyclically-rotate-an-array-by-one/0)"
   ]
  },
  {
   "cell_type": "code",
   "execution_count": null,
   "metadata": {},
   "outputs": [],
   "source": [
    "def rotate(arr):\n",
    "    i, j= 0, len(arr)-1\n",
    "    while i<j:\n",
    "        arr[i], arr[j] = arr[j], arr[i]\n",
    "        i+=1\n",
    "\n",
    "arr= [1, 2, 3, 4, 5]\n",
    "rotate(arr)\n",
    "rotate(arr)\n",
    "print(arr)"
   ]
  },
  {
   "cell_type": "markdown",
   "metadata": {},
   "source": [
    "\n",
    "## [Find Largest sum contiguous Subarray [V. IMP] / Kadne's Algorithm](https://practice.geeksforgeeks.org/problems/kadanes-algorithm/0)"
   ]
  },
  {
   "cell_type": "code",
   "execution_count": null,
   "metadata": {},
   "outputs": [],
   "source": [
    "def maxSubArraySum(arr):\n",
    "    n=len(arr)\n",
    "    currMax= arr[0]\n",
    "    maxSoFar=arr[0]\n",
    "    for i in range(1, n):\n",
    "        currMax=max(a[i], currMax + arr[i])\n",
    "        maxSoFar=max(maxSoFar, currMax)\n",
    "    return maxSoFar\n",
    "\n",
    "\n",
    "a = [-2, -3, 4, -1, -2, 1, 5, -3]\n",
    "print (\"Maximum contiguous sum is\" , maxSubArraySum(a))"
   ]
  },
  {
   "cell_type": "markdown",
   "metadata": {},
   "source": [
    "## [Minimise the maximum difference between heights [V.IMP]](https://practice.geeksforgeeks.org/problems/minimize-the-heights3351/1)\n"
   ]
  },
  {
   "cell_type": "code",
   "execution_count": null,
   "metadata": {},
   "outputs": [],
   "source": [
    "\"\"\"\n",
    "Given heights of n towers and a value k. We need to either increase or decrease the height of every tower by k (only once) where k > 0. The task is to minimize the difference between the heights of the longest and the shortest tower after modifications and output this difference.\n",
    "Input : arr[] = {1, 5, 15, 10} k = 3   \n",
    "Output : Maximum difference is 8 arr[] = {4, 8, 12, 7}\n",
    "\"\"\"\n",
    "\n",
    "def getMinDiff(arr, k):\n",
    "    arr.sort()\n",
    "    n=len(arr)\n",
    "    arrMin=arr[0]\n",
    "    arrMax=arr[n-1]\n",
    "    minDiff=arrMax-arrMin\n",
    "    for i in range(1, n):\n",
    "        arrMin=min(arr[0]+k, arr[i]-k)\n",
    "        arrMax=max(arr[i-1]+k,arr[n-1]-k)\n",
    "        minDiff=min(minDiff, arrMax-arrMin)\n",
    "    return minDiff\n",
    "\n",
    "\n",
    "k = 6 # permissible increase or decrease in the height of each tower. \n",
    "arr = [7, 4, 8, 8, 8, 9, 99, 3, 16] # height of each array\n",
    "print(\"Maximum difference of height between all towers (minimized as much as possible) is\", getMinDiff(arr, k))"
   ]
  },
  {
   "cell_type": "markdown",
   "metadata": {},
   "source": [
    "## [Minimum no. of Jumps to reach end of an array](https://practice.geeksforgeeks.org/problems/minimum-number-of-jumps/0)"
   ]
  },
  {
   "cell_type": "code",
   "execution_count": null,
   "metadata": {},
   "outputs": [],
   "source": [
    "\"\"\"\n",
    "Given an array of integers where each element recurrentents the max number of steps that can be made forward from that element. Write a function to return the minimum number of jumps to reach the end of the array (starting from the first element). If an element is 0, then we cannot move through that element. If we can't reach the end, return -1.\n",
    "\n",
    "Input:  arr[] = {1, 3, 5, 8, 9, 2, 6, 7, 6, 8, 9}\n",
    "Output: 3 (1-> 3 -> 8 -> 9)\n",
    "\"\"\"\n",
    "\n",
    "def minJumps(arr, n):\n",
    "    if n<=1:\n",
    "        return 0\n",
    "\n",
    "    if arr[0]==0:\n",
    "        return -1\n",
    "    \n",
    "    maxReach=arr[0]\n",
    "    step=arr[0]\n",
    "    jump=1\n",
    "    for start in range(1, n):\n",
    "        if start == n-1:\n",
    "            return jump\n",
    "        \n",
    "        maxReach=max(maxReach, start+arr[start])\n",
    "        step-=1\n",
    "        \n",
    "        if step==0:\n",
    "            jump+=1\n",
    "            if start>=maxReach:\n",
    "                return -1\n",
    "            step=maxReach-start\n",
    "    return -1\n",
    "        \n",
    "\n",
    "\n",
    "arr = [1, 1, 1, 2, 3, 2, 6, 7, 6, 8, 9]\n",
    "size = len(arr)\n",
    "print(\"Minimum number of jumps to reach end is: \", minJumps(arr, size))\n"
   ]
  },
  {
   "cell_type": "markdown",
   "metadata": {},
   "source": [
    "## [Find duplicate in an array of N+1 Integers](https://leetcode.com/problems/find-the-duplicate-number/)\n"
   ]
  },
  {
   "cell_type": "code",
   "execution_count": null,
   "metadata": {},
   "outputs": [],
   "source": [
    "\"\"\"\n",
    "Given a limited range array of size n containing elements between 1 and n-1 with one element repeating, find the duplicate number in it without using any extra space. NOTE : ARRAY IS LIMITED RANGE\n",
    "\"\"\"\n",
    "def findDuplicate(nums):\n",
    "    actual_sum = sum(nums)\n",
    "    expected_sum = len(nums) * (len(nums) - 1) // 2\n",
    "    return actual_sum - expected_sum\n",
    "\n",
    "A=[3,1,2,4,2]\n",
    "print(findDuplicate(A))"
   ]
  },
  {
   "cell_type": "markdown",
   "metadata": {},
   "source": [
    "\n",
    "## [Merge 2 sorted arrays without using Extra space.](https://practice.geeksforgeeks.org/problems/merge-two-sorted-arrays5135/1)\n"
   ]
  },
  {
   "cell_type": "code",
   "execution_count": null,
   "metadata": {},
   "outputs": [],
   "source": [
    "def merge(X, Y):\n",
    "    m, n =len(X), len(Y)\n",
    "    for i in range(m):\n",
    "        if X[i]>Y[0]:\n",
    "            X[i], Y[0]=Y[0], X[i]\n",
    "            first=Y[0]\n",
    "            \n",
    "            k=1\n",
    "            while k<n and Y[k]<first:\n",
    "                Y[k-1]=Y[k]\n",
    "                k+=1\n",
    "            \n",
    "            Y[k-1]=first\n",
    "            \n",
    "\n",
    "X = [1, 4, 7, 8, 10]\n",
    "Y = [2, 3, 9]\n",
    "merge(X, Y)\n",
    "print(\"X:\", X)\n",
    "print(\"Y:\", Y)"
   ]
  },
  {
   "cell_type": "markdown",
   "metadata": {},
   "source": [
    "## [Merge Intervals](https://leetcode.com/problems/merge-intervals/)"
   ]
  },
  {
   "cell_type": "code",
   "execution_count": null,
   "metadata": {},
   "outputs": [],
   "source": [
    "def mergeIntervals(arr):\n",
    "    arr.sort(key=lambda x:x[0])\n",
    "    index=0\n",
    "    for i in range(1, len(arr)):\n",
    "        if arr[index][1]>=arr[i][0]:\n",
    "            arr[index][1]=max(arr[index][1], arr[i][1])\n",
    "        else:\n",
    "            arr[index]=arr[i]\n",
    "    print(arr[:index+1]) \n",
    " \n",
    "arr = [[6, 8], [1, 3], [2, 4], [4, 7]]\n",
    "mergeIntervals(arr)"
   ]
  },
  {
   "cell_type": "markdown",
   "metadata": {},
   "source": [
    "## [Next Permutation](https://leetcode.com/problems/next-permutation/)"
   ]
  },
  {
   "cell_type": "code",
   "execution_count": null,
   "metadata": {},
   "outputs": [],
   "source": [
    "\"\"\"\n",
    "If all digits sorted in descending order, then output is always \"Not Possible\". For example, 4321. \n",
    "If all digits are sorted in ascending order, then we need to swap last two digits. For example, 1234. \n",
    "For other cases, we need to process the number from rightmost side (why? because we need to find the smallest of all greater numbers)\n",
    "\"\"\"\n",
    "\n",
    "def nextPermutation(arr):\n",
    "    N=len(arr)\n",
    "    ind = 0\n",
    "    l = []\n",
    "    l += arr\n",
    "    for i in range(N-2, -1, -1):\n",
    "        if l[i]<l[i+1]:\n",
    "            ind = i\n",
    "            break\n",
    "    for i in range(N-1, ind, -1):\n",
    "        if l[i]>l[ind]:\n",
    "            l[i], l[ind] = l[ind], l[i]\n",
    "            ind += 1\n",
    "            break\n",
    "    for i in range((N-ind)//2):\n",
    "        l[i+ind], l[N-i-1] = l[N-i-1], l[i+ind]\n",
    "    return \"\".join(l)\n",
    "    \n",
    "print(nextPermutation(\"218765\"))"
   ]
  },
  {
   "cell_type": "markdown",
   "metadata": {},
   "source": [
    "## [Count Inversion](https://practice.geeksforgeeks.org/problems/inversion-of-array/0)"
   ]
  },
  {
   "cell_type": "code",
   "execution_count": null,
   "metadata": {},
   "outputs": [],
   "source": [
    "# This Function will use MergeSort to count inversions\n",
    "def mergeSort(arr, temp_arr, left, right):\n",
    "    invertCount=0\n",
    "    if left < right:\n",
    "        mid= (left+right) //2\n",
    "        \n",
    "        invertCount+=mergeSort(arr, temp_arr, left, mid)\n",
    "        invertCount+mergeSort(arr, temp_arr, mid+1, right)\n",
    "        invertCount+=merge(arr, temp_arr, left, mid, right)\n",
    "    return invertCount\n",
    "  \n",
    "def merge(arr, temp_arr, left, mid, right):\n",
    "    invertCount=0\n",
    "    i=left\n",
    "    j=mid+1\n",
    "    k=left\n",
    "    while i<=mid and j<=right:\n",
    "        if arr[i]<=arr[j]:\n",
    "            temp_arr[k]=arr[i]\n",
    "            i+=1\n",
    "            k+=1\n",
    "        else:\n",
    "            temp_arr[k]=arr[j]\n",
    "            invertCount+=mid-i+1\n",
    "            j+=1\n",
    "            k+=1\n",
    "\n",
    "    while i<=mid:\n",
    "        temp_arr[k]=arr[k]   \n",
    "        i+=1\n",
    "        k+=1\n",
    "    while j<=right:\n",
    "        temp_arr[k]=arr[j] \n",
    "        j+=1\n",
    "        k+=1\n",
    "    for i in range(left, right+1):\n",
    "        arr[i]=temp_arr[i]\n",
    "\n",
    "    return invertCount\n",
    "        \n",
    "  \n",
    "arr = [1, 22, 20, 6, 4, 5, 99]\n",
    "n = len(arr)\n",
    "temp_arr = [0]*n\n",
    "result = mergeSort(arr, temp_arr, 0, n-1)\n",
    "print(\"Number of inversions are\", result)"
   ]
  },
  {
   "cell_type": "markdown",
   "metadata": {},
   "source": [
    "## [Best time to buy and Sell stock](https://leetcode.com/problems/best-time-to-buy-and-sell-stock/)\n"
   ]
  },
  {
   "cell_type": "code",
   "execution_count": null,
   "metadata": {},
   "outputs": [],
   "source": [
    "\"\"\"\n",
    "Input: [7,1,5,3,6,4]\n",
    "Output: 5\n",
    "Explanation: Buy on day 2 (price = 1) and sell on day 5 (price = 6), profit = 6-1 = 5.\n",
    "Not 7-1 = 6, as selling price needs to be larger than buying price.\n",
    "\"\"\"\n",
    "def maxProfit(prices):\n",
    "    maxProfit=0\n",
    "    minPrice=float('inf')\n",
    "    for price in prices:\n",
    "        minPrice=min(minPrice, price)\n",
    "        maxProfit=max(maxProfit, price-minPrice)\n",
    "    return maxProfit\n",
    "print(maxProfit([7,1,5,3,6,4]))"
   ]
  },
  {
   "cell_type": "markdown",
   "metadata": {},
   "source": [
    "## [Find all pairs on integer array whose sum is equal to given number](https://practice.geeksforgeeks.org/problems/count-pairs-with-given-sum5022/1)\n"
   ]
  },
  {
   "cell_type": "code",
   "execution_count": null,
   "metadata": {},
   "outputs": [],
   "source": [
    "def getPairsCount(arr, n, sum):\n",
    "    count=0\n",
    "    seen={}\n",
    "    for i in range(n):\n",
    "        if sum-arr[i] in seen:\n",
    "            count+=seen[sum - arr[i]]\n",
    "        if arr[i] in seen:\n",
    "            seen[arr[i]]+=1\n",
    "        else:\n",
    "            seen[arr[i]]=1\n",
    "    return count\n",
    "arr = [1, 5, 7, -1, 5]\n",
    "n = len(arr)\n",
    "sum = 6\n",
    "print('Count of pairs is', getPairsCount(arr, n, sum))"
   ]
  },
  {
   "cell_type": "markdown",
   "metadata": {},
   "source": [
    "## [Find common elements In 3 sorted arrays](https://practice.geeksforgeeks.org/problems/common-elements1132/1)"
   ]
  },
  {
   "cell_type": "code",
   "execution_count": null,
   "metadata": {},
   "outputs": [],
   "source": [
    "\"\"\"\n",
    "Given three arrays sorted in non-decreasing order, print all common elements in these arrays.\n",
    "\"\"\"\n",
    "\n",
    "def findCommon(arr1, arr2, arr3, n1, n2, n3):\n",
    "    i, j, k=0,0,0\n",
    "    while i<n1 and j<n2 and k<n3:\n",
    "        if arr1[i] == arr2[j] == arr3[k]:\n",
    "            print(arr1[i])\n",
    "            i+=1\n",
    "            j+=1\n",
    "            k+=1\n",
    "        elif arr1[i]<arr2[j]:\n",
    "            i+=1\n",
    "        elif arr2[j]<arr3[k]:\n",
    "            j+=1\n",
    "        else:\n",
    "            k+=1\n",
    "\n",
    "ar1 = [1, 5, 10, 20, 40, 80]\n",
    "ar2 = [6, 7, 20, 80, 100]\n",
    "ar3 = [3, 4, 15, 20, 30, 70, 80, 120]\n",
    "n1 = len(ar1)\n",
    "n2 = len(ar2)\n",
    "n3 = len(ar3)\n",
    "\n",
    "print (\"Common elements are\")\n",
    "findCommon(ar1, ar2, ar3, n1, n2, n3)"
   ]
  },
  {
   "cell_type": "markdown",
   "metadata": {},
   "source": [
    "## [Rearrange the array in alternating positive and negative items with O(1) extra space](https://practice.geeksforgeeks.org/problems/array-of-alternate-ve-and-ve-nos1401/1)"
   ]
  },
  {
   "cell_type": "code",
   "execution_count": null,
   "metadata": {},
   "outputs": [],
   "source": [
    "def rearrange(arr, n):\n",
    "    low=0\n",
    "    high=n-1\n",
    "    while low<high:\n",
    "        while low<n-1 and arr[low]>0:\n",
    "            low+=1\n",
    "        while high>0 and arr[high]<0:\n",
    "            high-=1\n",
    "        if low<high:\n",
    "            arr[low], arr[high] = arr[high], arr[low]\n",
    "    if low in [0, n]:\n",
    "        return 0\n",
    "    k=0\n",
    "    while k<n and low<n:\n",
    "        arr[k], arr[low]=arr[low], arr[k]\n",
    "        k+=2\n",
    "        low+=1\n",
    "\n",
    "arr = [2, 3,-4, -1, 6, -9 ]\n",
    "n = len(arr)\n",
    "rearrange(arr, n)\n",
    "print(\"Rearranged array is\", arr)"
   ]
  },
  {
   "cell_type": "markdown",
   "metadata": {},
   "source": [
    "\n",
    "## [Find if there is any subarray with sum equal to 0](https://practice.geeksforgeeks.org/problems/subarray-with-0-sum/0)"
   ]
  },
  {
   "cell_type": "code",
   "execution_count": null,
   "metadata": {},
   "outputs": [],
   "source": [
    "\"\"\"\n",
    "Given an array of positive and negative numbers, find if there is a subarray (of size at-least one) with 0 sum.\n",
    "\n",
    "\"\"\"\n",
    "def subArrayExists(arr):\n",
    "    n=len(arr)\n",
    "    sum=0\n",
    "    seen=set()\n",
    "    for x in arr:\n",
    "        sum+=x\n",
    "        if sum==0 or sum in seen:\n",
    "            return True\n",
    "        seen.add(sum)\n",
    "    return False\n",
    "\n",
    "print(subArrayExists([4, 2, -3, 1, 6]))"
   ]
  },
  {
   "cell_type": "markdown",
   "metadata": {},
   "source": [
    "## [Find factorial of a large number](https://practice.geeksforgeeks.org/problems/factorials-of-large-numbers/0)"
   ]
  },
  {
   "cell_type": "code",
   "execution_count": null,
   "metadata": {},
   "outputs": [],
   "source": [
    "def factorial(n):\n",
    "    return 1 if n<2 else rangeProduct(1,n)\n",
    "\n",
    "def rangeProduct(low, high):\n",
    "    if low+1 < high:\n",
    "        mid=(low+high)//2\n",
    "        return rangeProduct(low, mid)* rangeProduct(mid+1, high)\n",
    "    elif low==high:\n",
    "        return low\n",
    "    else:\n",
    "        return low* high\n",
    "\n",
    "print(factorial(12))"
   ]
  },
  {
   "cell_type": "markdown",
   "metadata": {},
   "source": [
    "## [Find maximum product subarray](https://practice.geeksforgeeks.org/problems/maximum-product-subarray3604/1)\n"
   ]
  },
  {
   "cell_type": "code",
   "execution_count": null,
   "metadata": {},
   "outputs": [],
   "source": [
    "def maxProduct(arr):\n",
    "    n=len(arr)\n",
    "    minVal=maxVal=maxProduct=arr[0]\n",
    "    for x in arr[1:n]:\n",
    "        if x<0:\n",
    "            minVal, maxVal = maxVal, minVal\n",
    "        maxVal=max(x, maxVal*x)\n",
    "        minVal=min(x, minVal*x)\n",
    "        maxProduct=max(maxProduct, maxVal)\n",
    "    return maxProduct\n",
    "print(maxProduct([6, -3, -10, 0, 2]))\n"
   ]
  },
  {
   "cell_type": "markdown",
   "metadata": {},
   "source": [
    "## [Find longest consecutive subsequence](https://practice.geeksforgeeks.org/problems/longest-consecutive-subsequence/0)"
   ]
  },
  {
   "cell_type": "code",
   "execution_count": null,
   "metadata": {},
   "outputs": [],
   "source": [
    "\"\"\"\n",
    "Given an array of integers, find the length of the longest sub-sequence such that elements in the subsequence are consecutive integers, the consecutive numbers can be in any order. \n",
    "\"\"\"\n",
    "def findLongestConseqSubseq(arr):\n",
    "    n=len(arr)\n",
    "    s=set(arr)\n",
    "    ans=0\n",
    "    for x in arr:\n",
    "        if x-1 not in s:\n",
    "            j=x\n",
    "            while j in s:\n",
    "                j+=1\n",
    "            ans=max(ans, j-x)\n",
    "    return ans\n",
    "\n",
    "print(findLongestConseqSubseq([1, 9, 3, 10, 4, 20, 2]))"
   ]
  },
  {
   "cell_type": "markdown",
   "metadata": {},
   "source": [
    "## [Given an array of size n and a number k, find all elements that appear more than \" n/k \" times.](https://leetcode.com/problems/majority-element-ii/)"
   ]
  },
  {
   "cell_type": "code",
   "execution_count": null,
   "metadata": {},
   "outputs": [],
   "source": [
    "\"\"\"\n",
    "Given an integer array of size n, find all elements that appear more than ⌊ n/k ⌋ times.\n",
    "\"\"\"\n",
    "def majorityElement(nums, k):\n",
    "    if not nums:\n",
    "        return []\n",
    "    count1, count2, candidate1, candidate2 = 0, 0, None, None\n",
    "    for x in nums:\n",
    "        if x==candidate1:\n",
    "            count1 += 1\n",
    "        elif x==candidate2:\n",
    "            count2 += 1\n",
    "        elif count1 == 0:\n",
    "            candidate1 = x\n",
    "            count1 = 1\n",
    "        elif count2 == 0:\n",
    "            candidate2 = x\n",
    "            count2 = 1\n",
    "        else:\n",
    "            count1 -= 1\n",
    "            count2 -= 1\n",
    "    return [c for c in [candidate1, candidate2] if nums.count(c) > len(nums) // k]\n",
    "print(majorityElement([3,2,3,2,2,2,4,3,3,1,5], 3))"
   ]
  },
  {
   "cell_type": "markdown",
   "metadata": {},
   "source": [
    "## [Maximum profit by buying and selling a share atmost twice](https://leetcode.com/problems/best-time-to-buy-and-sell-stock-iii/)"
   ]
  },
  {
   "cell_type": "code",
   "execution_count": null,
   "metadata": {},
   "outputs": [],
   "source": [
    "\"\"\"\n",
    "Input: prices = [3,3,5,0,0,3,1,4]\n",
    "Output: 6\n",
    "Explanation: Buy on day 4 (price = 0) and sell on day 6 (price = 3), profit = 3-0 = 3. Then buy on day 7 (price = 1) and sell on day 8 (price = 4), profit = 4-1 = 3.\n",
    "\"\"\"\n",
    "def maxProfit(prices):\n",
    "    b1, b2= -float('inf'), -float('inf')\n",
    "    s1, s2 = 0, 0\n",
    "    for price in prices:\n",
    "        s2 = max(s2, b2 + price)\n",
    "        b2 = max(b2, s1 - price)\n",
    "        s1 = max(s1, b1 + price)\n",
    "        b1 = max(b1, -price)\n",
    "    return s2\n",
    "print(maxProfit([3,3,5,0,0,3,1,4]))"
   ]
  },
  {
   "cell_type": "markdown",
   "metadata": {},
   "source": [
    "## [Find whether an array is a subset of another array](https://practice.geeksforgeeks.org/problems/array-subset-of-another-array/0)"
   ]
  },
  {
   "cell_type": "code",
   "execution_count": null,
   "metadata": {},
   "outputs": [],
   "source": [
    "def isSubset( a1, a2):\n",
    "    s = set(a1)\n",
    "    prevSize = len(s)\n",
    "    s.update(_ for _ in a2)\n",
    "    if (len(s) == prevSize):\n",
    "        return \"Yes - Is subset\"\n",
    "    return \"No - Is Not subset\"\n",
    "\n",
    "a=[11, 1, 13, 21, 3, 7, 14]\n",
    "b=[11, 3, 7, 1, 21]\n",
    "print(isSubset(a, b))"
   ]
  },
  {
   "cell_type": "markdown",
   "metadata": {},
   "source": [
    "## [Find the triplet that sum to a given value](https://practice.geeksforgeeks.org/problems/triplet-sum-in-array/0)\n"
   ]
  },
  {
   "cell_type": "code",
   "execution_count": null,
   "metadata": {},
   "outputs": [],
   "source": [
    "def findTriplets(arr, x):\n",
    "    found=False\n",
    "    n=len(arr)\n",
    "    for i in range(0, n-2):\n",
    "        for j in range(i+1, n-1):\n",
    "            for k in range(j+1, n):\n",
    "                if arr[i]+arr[j]+arr[k]==x:\n",
    "                    print(arr[i], arr[j], arr[k])\n",
    "                    found=True\n",
    "    if not found:\n",
    "        return \"No Triplets Found\"\n",
    "arr = [0, -1, 2, -3, 1] \n",
    "sum= 3\n",
    "findTriplets(arr, sum) "
   ]
  },
  {
   "cell_type": "markdown",
   "metadata": {},
   "source": [
    "## [Trapping Rain water problem](https://practice.geeksforgeeks.org/problems/trapping-rain-water/0)"
   ]
  },
  {
   "cell_type": "code",
   "execution_count": null,
   "metadata": {},
   "outputs": [],
   "source": [
    "def trap(heights):\n",
    "    left, right=0, len(heights)-1\n",
    "    water=0\n",
    "    maxLeft=heights[left]\n",
    "    maxRight=heights[right]\n",
    "    while left<right:\n",
    "        if heights[left]<heights[right]:\n",
    "            left+=1\n",
    "            maxLeft=max(maxleft, heights[left])\n",
    "            water+=maxLeft-heights[left]\n",
    "        else:\n",
    "            right-=1\n",
    "            maxRight=max(maxRight, heights[right])\n",
    "            water+=maxRight-heights[right]\n",
    "    return water\n",
    " \n",
    "\n",
    "heights = [7, 0, 4, 2, 5, 0, 6, 4, 0, 5]\n",
    "print(\"The maximum amount of water that can be trapped is\", trap(heights))"
   ]
  },
  {
   "cell_type": "markdown",
   "metadata": {},
   "source": [
    "\n",
    "## [Chocolate Distribution problem](https://practice.geeksforgeeks.org/problems/chocolate-distribution-problem/0)"
   ]
  },
  {
   "cell_type": "code",
   "execution_count": null,
   "metadata": {},
   "outputs": [],
   "source": [
    "\"\"\"\n",
    "Input : arr[] = {7, 3, 2, 4, 9, 12, 56} , m = 3 \n",
    "Output: Minimum Difference is 2 \n",
    "Explanation: We have seven packets of chocolates and we need to pick three packets for 3 students. If we pick 2, 3 and 4, we get the minimum  difference between maximum and minimum packet sizes.\n",
    "\"\"\"\n",
    "\n",
    "def findMinDiff(arr, m):\n",
    "    n=len(arr)\n",
    "    if n<m:\n",
    "        return -1\n",
    "    if n==0 or m==0:\n",
    "        return 0\n",
    "    arr.sort()\n",
    "    minDiff=arr[n-1] - arr[0]\n",
    "    for i in range(n-m+1):\n",
    "        minDiff=min(minDiff, arr[i+m-1] - arr[i])\n",
    "    return minDiff\n",
    "\n",
    "arr = [12, 4, 7, 9, 2, 23, 25, 41, 30, 40, 28, 42, 30, 44, 48, 43, 50]\n",
    "m = 7 # Number of students\n",
    "print(\"Minimum difference is\", findMinDiff(arr, m))"
   ]
  },
  {
   "cell_type": "markdown",
   "metadata": {},
   "source": [
    "## [Smallest Subarray with sum greater than a given value](https://leetcode.com/problems/minimum-size-subarray-sum/)\n"
   ]
  },
  {
   "cell_type": "code",
   "execution_count": 1,
   "metadata": {},
   "outputs": [
    {
     "name": "stdout",
     "output_type": "stream",
     "text": [
      "2\n"
     ]
    }
   ],
   "source": [
    "\"\"\"\n",
    "Input: target = 7, nums = [2,3,1,2,4,3]\n",
    "Output: 2\n",
    "Explanation: The subarray [4,3] has the minimal length under the problem constraint.\n",
    "\"\"\"\n",
    "\n",
    "def minSubArrayLen(nums, target):\n",
    "    i, j, current, res = 0 , 0 , 0, len(nums) + 1\n",
    "    while j < len(nums):\n",
    "        current+=nums[j]\n",
    "        j+=1\n",
    "        while current>=target:\n",
    "            res=min(res, j-i)\n",
    "            current-=nums[i]\n",
    "            i+=1\n",
    "    return res if res != len(nums)+1 else 0\n",
    "      \n",
    "\n",
    "sum=7\n",
    "print(minSubArrayLen([2,3,1,2,4,3], sum))\n",
    "    "
   ]
  },
  {
   "cell_type": "markdown",
   "metadata": {},
   "source": [
    "## [Three way partitioning of an array around a given value](https://practice.geeksforgeeks.org/problems/three-way-partitioning/1)\n"
   ]
  },
  {
   "cell_type": "code",
   "execution_count": 4,
   "metadata": {},
   "outputs": [
    {
     "name": "stdout",
     "output_type": "stream",
     "text": [
      "[1, 5, 4, 2, 1, 3, 14, 20, 20, 98, 87, 32, 54]\n"
     ]
    }
   ],
   "source": [
    "def threeWayPartition(arr, lowVal, highVal):\n",
    "    n=len(arr)\n",
    "    i=0\n",
    "    start=0\n",
    "    end=n-1\n",
    "    while i<=end:\n",
    "        if arr[i]<lowVal:\n",
    "            arr[i], arr[start]=arr[start] ,arr[i]\n",
    "            i+=1\n",
    "            start+=1\n",
    "        elif arr[i]>highVal:\n",
    "            arr[i], arr[end]= arr[end], arr[i]\n",
    "            end-=1\n",
    "        else:\n",
    "            i+=1\n",
    "\"\"\"\n",
    "1) All elements smaller than lowVal come first. \n",
    "2) All elements in range lowVal to highVal come next. \n",
    "3) All elements greater than highVal appear in the end.\n",
    "\"\"\"\n",
    "\n",
    "arr = [1, 14, 5, 20, 4, 2, 54, 20, 87, 98, 3, 1, 32]\n",
    "threeWayPartition(arr, 10, 20)\n",
    "print(arr)"
   ]
  },
  {
   "cell_type": "markdown",
   "metadata": {},
   "source": [
    "## [Minimum swaps required bring elements less equal K together](https://practice.geeksforgeeks.org/problems/minimum-swaps-required-to-bring-all-elements-less-than-or-equal-to-k-together/0)"
   ]
  },
  {
   "cell_type": "code",
   "execution_count": 9,
   "metadata": {},
   "outputs": [
    {
     "name": "stdout",
     "output_type": "stream",
     "text": [
      "1\n",
      "2\n"
     ]
    }
   ],
   "source": [
    "\"\"\"\n",
    "Find the minimum number of swaps required to bring all the numbers less than or equal to k together, i.e. make them a contiguous subarray.\n",
    "\"\"\"\n",
    "def minSwap(arr, k):\n",
    "    n=len(arr)\n",
    "    count = 0\n",
    "    bad = 0\n",
    "    \n",
    "    for x in arr:\n",
    "        if (x<= k) :\n",
    "            count = count + 1\n",
    "   \n",
    "    for i in range(count):\n",
    "        if (arr[i] > k) :\n",
    "            bad = bad + 1\n",
    "\n",
    "    ans = bad\n",
    "    j = count\n",
    "    for i in range(n):\n",
    "        if(j == n) :\n",
    "            break\n",
    "        if (arr[i] > k) :\n",
    "            bad = bad - 1\n",
    "        if (arr[j] > k) :\n",
    "            bad = bad + 1\n",
    "        ans = min(ans, bad)\n",
    "        j = j + 1\n",
    "\n",
    "    return ans\n",
    " \n",
    "\n",
    "arr = [2, 1, 5, 6, 3]\n",
    "k = 3\n",
    "print (minSwap(arr, k))\n",
    " \n",
    "arr1 = [2, 7, 9, 5, 8, 7, 4]\n",
    "k = 5\n",
    "print (minSwap(arr1, k))"
   ]
  },
  {
   "cell_type": "markdown",
   "metadata": {},
   "source": [
    "## [Minimum no. of operations required to make an array palindrome](https://app.glider.ai/practice/problem/basic-programming/make-array-palindrome/problem)"
   ]
  },
  {
   "cell_type": "code",
   "execution_count": 13,
   "metadata": {},
   "outputs": [
    {
     "name": "stdout",
     "output_type": "stream",
     "text": [
      "The minimum number of operations required: 2\n"
     ]
    }
   ],
   "source": [
    "\"\"\"\n",
    "Input:  [6, 1, 3, 7]\n",
    "Output: 1\n",
    "Explanation: [6, 1, 3, 7] —> Merge 6 and 1 —> [7, 3, 7]\n",
    "\"\"\"\n",
    "def findMin(arr):\n",
    "    i = 0\n",
    "    j = len(arr) - 1\n",
    "    count = 0\n",
    "    while i < j:\n",
    "        if arr[i] < arr[j]:\n",
    "            arr[i + 1] += arr[i]\n",
    "            i += 1\n",
    "            count += 1\n",
    "        elif arr[i] > arr[j]:\n",
    "            arr[j - 1] += arr[j]\n",
    "            j -=1\n",
    "            count += 1\n",
    "        else:\n",
    "            i += 1\n",
    "            j -= 1\n",
    "    return count\n",
    " \n",
    "\n",
    "arr = [6, 1, 4, 3, 1, 7]\n",
    "min = findMin(arr)\n",
    "print(\"The minimum number of operations required:\", min)"
   ]
  },
  {
   "cell_type": "markdown",
   "metadata": {},
   "source": [
    "## [Median of 2 sorted arrays of different size](https://leetcode.com/problems/median-of-two-sorted-arrays/)"
   ]
  },
  {
   "cell_type": "code",
   "execution_count": 14,
   "metadata": {},
   "outputs": [
    {
     "name": "stdout",
     "output_type": "stream",
     "text": [
      "Median =  3\n"
     ]
    }
   ],
   "source": [
    "def Solution(arr1, arr2):\n",
    "    arr = arr1 + arr2\n",
    "    arr.sort()\n",
    "    n = len(arr) \n",
    "    if n % 2 == 0:\n",
    "        return (arr[n // 2] + arr[n // 2 - 1]) / 2\n",
    "    else:\n",
    "        return arr[n//2]\n",
    "  \n",
    "arr1 = [ -5, 3, 6, 12, 15]\n",
    "arr2 = [ -12, -10, -6, -3, 4, 10 ]\n",
    "print(\"Median = \", Solution(arr1, arr2))"
   ]
  }
 ],
 "metadata": {
  "kernelspec": {
   "display_name": "Python 3.10.0 64-bit",
   "language": "python",
   "name": "python3"
  },
  "language_info": {
   "codemirror_mode": {
    "name": "ipython",
    "version": 3
   },
   "file_extension": ".py",
   "mimetype": "text/x-python",
   "name": "python",
   "nbconvert_exporter": "python",
   "pygments_lexer": "ipython3",
   "version": "3.10.0"
  },
  "orig_nbformat": 4,
  "vscode": {
   "interpreter": {
    "hash": "26de051ba29f2982a8de78e945f0abaf191376122a1563185a90213a26c5da77"
   }
  }
 },
 "nbformat": 4,
 "nbformat_minor": 2
}
